{
 "cells": [
  {
   "cell_type": "code",
   "execution_count": null,
   "id": "90e33308",
   "metadata": {},
   "outputs": [
    {
     "name": "stdout",
     "output_type": "stream",
     "text": [
      "{'Ten': 10, 'Twenty': 20, 'Thirty': 30}\n"
     ]
    }
   ],
   "source": [
    "#Exercise 1: Converting Lists into Dictionaries\n",
    "\n",
    "keys = ['Ten', 'Twenty', 'Thirty']\n",
    "values = [10, 20, 30]\n",
    "\n",
    "result_dict = dict(zip(keys, values))\n",
    "print(result_dict)"
   ]
  },
  {
   "cell_type": "code",
   "execution_count": null,
   "id": "f25a5aca",
   "metadata": {},
   "outputs": [
    {
     "name": "stdout",
     "output_type": "stream",
     "text": [
      "Rick's ticket: $15\n",
      "Beth's ticket: $15\n",
      "Morty's ticket: $10\n",
      "Summer's ticket: $10\n",
      "\n",
      "Total cost for the family: $50\n"
     ]
    }
   ],
   "source": [
    "# Exercise 2: Cinemax #2\n",
    "\n",
    "\n",
    "family = {\"rick\": 43, 'beth': 13, 'morty': 5, 'summer': 8}\n",
    "\n",
    "total_cost = 0\n",
    "\n",
    "for name, age in family.items():\n",
    "    if age < 3:\n",
    "        price = 0\n",
    "    elif 3 <= age <= 12:\n",
    "        price = 10\n",
    "    else:\n",
    "        price = 15\n",
    "    \n",
    "    print(f\"{name.capitalize()}'s ticket: ${price}\")\n",
    "    total_cost += price\n",
    "\n",
    "print(f\"\\nTotal cost for the family: ${total_cost}\")"
   ]
  },
  {
   "cell_type": "code",
   "execution_count": null,
   "id": "5a27fd82",
   "metadata": {},
   "outputs": [
    {
     "name": "stdout",
     "output_type": "stream",
     "text": [
      "Zara's clients are men, women, children, and home.\n",
      "\n",
      "Last international competitor: Desigual\n",
      "Major colors in US: pink and green\n",
      "\n",
      "Number of keys: 7\n",
      "\n",
      "Dictionary keys:\n",
      "- name\n",
      "- creator_name\n",
      "- type_of_clothes\n",
      "- international_competitors\n",
      "- number_stores\n",
      "- major_color\n",
      "- country_creation\n",
      "Merged Brand Dictionary:\n",
      "name: Zara\n",
      "creator_name: Amancio Ortega Gaona\n",
      "type_of_clothes: ['men', 'women', 'children', 'home']\n",
      "international_competitors: ['Gap', 'H&M', 'Benetton', 'Desigual']\n",
      "number_stores: 7000\n",
      "major_color: {'France': 'blue', 'Spain': 'red', 'US': ['pink', 'green']}\n",
      "country_creation: Spain\n",
      "creation_date: 1975\n",
      "Berlin is in Germany.\n"
     ]
    }
   ],
   "source": [
    "# Exercise 3: Zara\n",
    "\n",
    "# Brand dictionary creation\n",
    "brand = {\n",
    "    'name': 'Zara',\n",
    "    'creation_date': 1975,\n",
    "    'creator_name': 'Amancio Ortega Gaona',\n",
    "    'type_of_clothes': ['men', 'women', 'children', 'home'],\n",
    "    'international_competitors': ['Gap', 'H&M', 'Benetton'],\n",
    "    'number_stores': 7000,\n",
    "    'major_color': {\n",
    "        'France': 'blue', \n",
    "        'Spain': 'red', \n",
    "        'US': ['pink', 'green']\n",
    "    }\n",
    "}\n",
    "\n",
    "# 1. Stores number to 2\n",
    "brand['number_stores'] = 2\n",
    "\n",
    "\n",
    "# 2. Zara's clients description\n",
    "clients = ', '.join(brand['type_of_clothes'][:-1]) + ', and ' + brand['type_of_clothes'][-1]\n",
    "print(f\"Zara's clients are {clients}.\")\n",
    "\n",
    "\n",
    "# 3. Country_creation key add-up\n",
    "brand['country_creation'] = 'Spain'\n",
    "\n",
    "\n",
    "# 4. International existing competitors and Desigual add-up\n",
    "if 'international_competitors' in brand:\n",
    "    brand['international_competitors'].append('Desigual')\n",
    "\n",
    "\n",
    "# 5. Creation_date key deletion\n",
    "del brand['creation_date']\n",
    "\n",
    "\n",
    "# 6. Last international competitor\n",
    "print(f\"\\nLast international competitor: {brand['international_competitors'][-1]}\")\n",
    "\n",
    "\n",
    "# 7. Major colors in US\n",
    "us_colors = ' and '.join(brand['major_color']['US'])\n",
    "print(f\"Major colors in US: {us_colors}\")\n",
    "\n",
    "\n",
    "# 8. Number of keys\n",
    "print(f\"\\nNumber of keys: {len(brand)}\")\n",
    "\n",
    "\n",
    "\n",
    "# 9.  All keys\n",
    "print(\"\\nDictionary keys:\")\n",
    "for key in brand.keys():\n",
    "    print(f\"- {key}\")\n",
    "\n",
    "\n",
    "# Bonus: \n",
    "# \n",
    "# more_on_zara dictionary creation\n",
    "more_on_zara = {\n",
    "    'creation_date': 1975,\n",
    "    'number_stores': 7000  # Original value before we changed it to 2\n",
    "}\n",
    "\n",
    "# 2. Dictionaries mergin\n",
    "merged_brand = brand | more_on_zara\n",
    "\n",
    "\n",
    "# 3.Result display\n",
    "print(\"Merged Brand Dictionary:\")\n",
    "for key, value in merged_brand.items():\n",
    "    print(f\"{key}: {value}\")\n",
    "\n",
    "\n",
    "\n",
    "\n"
   ]
  },
  {
   "cell_type": "code",
   "execution_count": null,
   "id": "b1b7c3fb",
   "metadata": {},
   "outputs": [
    {
     "name": "stdout",
     "output_type": "stream",
     "text": [
      "Berlin is in Germany.\n"
     ]
    }
   ],
   "source": [
    "# Exercise 4 : Some Geography\n",
    "\n",
    "def describe_city(name, country='France'):\n",
    "    print(f\"\")\n",
    "    \n",
    "\n",
    "describe_city(\"Paris\", \"France\")\n",
    "\n",
    "print(describe_city('berlin', 'germany'))"
   ]
  },
  {
   "cell_type": "code",
   "execution_count": null,
   "id": "2710446a",
   "metadata": {},
   "outputs": [
    {
     "name": "stdout",
     "output_type": "stream",
     "text": [
      "Fail! Your number: 50, Random number: 76\n",
      "Fail! Your number: 75, Random number: 23\n"
     ]
    }
   ],
   "source": [
    "# Exercise 5 : Random\n",
    "\n",
    "# Step 1: Random module\n",
    "import random  \n",
    "\n",
    "\n",
    "# Step 2: Function with parameter\n",
    "def compare_numbers(user_number):  \n",
    "\n",
    "    if not 1 <= user_number <= 100:\n",
    "        print(\"Error: Please enter a number between 1 and 100\")\n",
    "        return\n",
    "    \n",
    "    # Step 3: Generate random number\n",
    "    random_number = random.randint(1, 100)  \n",
    "    \n",
    "    # Step 4: Compare the numbers\n",
    "    if user_number == random_number:\n",
    "        print(\"Success! Both numbers are\", user_number)\n",
    "    else:\n",
    "        print(f\"Fail! Your number: {user_number}, Random number: {random_number}\")\n",
    "\n",
    "\n",
    "# Step 5: Call the function\n",
    "compare_numbers(50)  # Example call\n",
    "compare_numbers(75)  # Another example\n",
    "\n"
   ]
  },
  {
   "cell_type": "code",
   "execution_count": null,
   "id": "1cf8a691",
   "metadata": {},
   "outputs": [
    {
     "name": "stdout",
     "output_type": "stream",
     "text": [
      "The size of the shirt is large and the text is I love Python.\n",
      "The size of the shirt is medium and the text is I love Python.\n",
      "The size of the shirt is small and the text is Custom message.\n",
      "The size of the shirt is extra large and the text is Python is awesome!.\n",
      "The size of the shirt is XS and the text is Hello World!.\n"
     ]
    }
   ],
   "source": [
    "# Exercise 6 : Let’s create some personalized shirts !\n",
    "\n",
    "\n",
    "# Function definition\n",
    "def make_shirt(size='large', text='I love Python'):\n",
    "\n",
    "  \n",
    "    # Step 2: Print summary message\n",
    "    print(f\"The size of the shirt is {size} and the text is {text}.\")\n",
    "\n",
    "# Step 3: Call the function\n",
    "make_shirt()  # Uses both defaults\n",
    "make_shirt('medium')  # Custom size, default text\n",
    "make_shirt('small', 'Custom message')  # Both custom\n",
    "\n",
    "# Step 4: Default values\n",
    "def make_shirt(size='large', text='I love Python'):\n",
    "\n",
    "\n",
    "# Step 6: Keyword arguments\n",
    "make_shirt(size='extra large', text='Python is awesome!')\n",
    "make_shirt(text='Hello World!', size='XS')  # Order doesn't matter with keywords"
   ]
  },
  {
   "cell_type": "code",
   "execution_count": 24,
   "id": "c21990b4",
   "metadata": {},
   "outputs": [
    {
     "name": "stdout",
     "output_type": "stream",
     "text": [
      "\n",
      "=== Temperature Advice Program ===\n",
      "\n",
      "It's spring! The temperature is 9.4°C.\n",
      "Quite chilly! Don't forget your coat.\n"
     ]
    }
   ],
   "source": [
    "# Exercise 7 : Temperature Advice\n",
    "\n",
    "\n",
    "import random\n",
    "\n",
    "def get_random_temp(month=None):\n",
    "    \"\"\"Returns a random temperature, with optional seasonal adjustments\"\"\"\n",
    "    if month is not None:\n",
    "        # Bonus: Season-based temperatures\n",
    "        if month in [12, 1, 2]:  # Winter\n",
    "            return round(random.uniform(-10, 10), 1), \"winter\"\n",
    "        elif month in [3, 4, 5]:  # Spring\n",
    "            return round(random.uniform(5, 20), 1), \"spring\"\n",
    "        elif month in [6, 7, 8]:  # Summer\n",
    "            return round(random.uniform(20, 40), 1), \"summer\"\n",
    "        else:  # Fall (September, October, November)\n",
    "            return round(random.uniform(5, 25), 1), \"fall\"\n",
    "    # Base version (no season)\n",
    "    return round(random.uniform(-10, 40), 1)  \n",
    "\n",
    "def main():\n",
    "    print(\"\\n=== Temperature Advice Program ===\")\n",
    "    \n",
    "    # Ask for month\n",
    "    try:\n",
    "        month = int(input(\"Enter a month (1-12, or press Enter for random): \"))\n",
    "        if not 1 <= month <= 12:\n",
    "            raise ValueError\n",
    "        temp, season = get_random_temp(month)\n",
    "        print(f\"\\nIt's {season}! The temperature is {temp}°C.\")\n",
    "    except:\n",
    "        temp = get_random_temp()\n",
    "        print(f\"\\nThe temperature right now is {temp}°C.\")\n",
    "    \n",
    "    # Temperature advice\n",
    "    if temp < 0:\n",
    "        print(\"Brrr, that's freezing! Wear some extra layers today.\")\n",
    "    elif 0 <= temp < 16:\n",
    "        print(\"Quite chilly! Don't forget your coat.\")\n",
    "    elif 16 <= temp < 23:\n",
    "        print(\"Nice weather.\")\n",
    "    elif 24 <= temp < 32:\n",
    "        print(\"A bit warm, stay hydrated.\")\n",
    "    else:\n",
    "        print(\"It's really hot! Stay cool.\")\n",
    "\n",
    "if __name__ == \"__main__\":\n",
    "    main()"
   ]
  },
  {
   "cell_type": "code",
   "execution_count": null,
   "id": "49e4e34f",
   "metadata": {},
   "outputs": [
    {
     "name": "stdout",
     "output_type": "stream",
     "text": [
      "Welcome to the Pizza Topping System!\n",
      "Enter your toppings one at a time. Type 'quit' when you're done.\n",
      "\n",
      "Adding 3 to your pizza.\n",
      "Adding 8 to your pizza.\n",
      "\n",
      "Your pizza order:\n",
      "- 3\n",
      "- 8\n",
      "\n",
      "Base price: $10.00\n",
      "Toppings (2): $5.00\n",
      "Total cost: $15.00\n"
     ]
    }
   ],
   "source": [
    "# Exercise 8: Pizza Toppings\n",
    "\n",
    "# Initialize variables\n",
    "toppings = []\n",
    "base_price = 10.00\n",
    "topping_price = 2.50\n",
    "\n",
    "print(\"Welcome to the Pizza Topping System!\")\n",
    "print(\"Enter your toppings one at a time. Type 'quit' when you're done.\\n\")\n",
    "\n",
    "# Main topping loop\n",
    "while True:\n",
    "    topping = input(\"Enter a pizza topping (or 'quit' to finish): \").strip()\n",
    "    \n",
    "    if topping.lower() == 'quit':\n",
    "        break\n",
    "    \n",
    "    if topping:  # Only add non-empty toppings\n",
    "        print(f\"Adding {topping} to your pizza.\")\n",
    "        toppings.append(topping)\n",
    "\n",
    "# Calculate total price (correction ici : parenthèse fermante ajoutée)\n",
    "total_price = base_price + (len(toppings) * topping_price)\n",
    "\n",
    "# Print final order summary\n",
    "print(\"\\nYour pizza order:\")\n",
    "if toppings:\n",
    "    for topping in toppings:\n",
    "        print(f\"- {topping}\")\n",
    "else:\n",
    "    print(\"- No toppings (plain pizza)\")\n",
    "\n",
    "print(f\"\\nBase price: ${base_price:.2f}\")\n",
    "print(f\"Toppings ({len(toppings)}): ${len(toppings) * topping_price:.2f}\")\n",
    "print(f\"Total cost: ${total_price:.2f}\")"
   ]
  }
 ],
 "metadata": {
  "kernelspec": {
   "display_name": "Python 3",
   "language": "python",
   "name": "python3"
  },
  "language_info": {
   "codemirror_mode": {
    "name": "ipython",
    "version": 3
   },
   "file_extension": ".py",
   "mimetype": "text/x-python",
   "name": "python",
   "nbconvert_exporter": "python",
   "pygments_lexer": "ipython3",
   "version": "3.9.6"
  }
 },
 "nbformat": 4,
 "nbformat_minor": 5
}
