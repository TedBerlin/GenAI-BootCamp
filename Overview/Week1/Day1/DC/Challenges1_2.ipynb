{
 "cells": [
  {
   "cell_type": "code",
   "execution_count": null,
   "id": "b83e68e2",
   "metadata": {},
   "outputs": [
    {
     "name": "stdout",
     "output_type": "stream",
     "text": [
      "The first 5 multiples of 8 are: [8, 16, 24, 32, 40]\n"
     ]
    }
   ],
   "source": [
    "# Challenge 1\n",
    "\n",
    "def generate_multiples(number, length):\n",
    "\n",
    "    return [number * i for i in range(1, length + 1)]\n",
    "\n",
    "# Example usage:\n",
    "number = int(input(\"Enter the base number: \"))\n",
    "length = int(input(\"Enter the desired length: \"))\n",
    "\n",
    "multiples = generate_multiples(number, length)\n",
    "print(f\"The first {length} multiples of {number} are: {multiples}\")"
   ]
  },
  {
   "cell_type": "code",
   "execution_count": 3,
   "id": "f92ace7a",
   "metadata": {},
   "outputs": [
    {
     "name": "stdout",
     "output_type": "stream",
     "text": [
      "user's word : claaarra ➞ clara\n"
     ]
    }
   ],
   "source": [
    "# Challenge 2\n",
    "\n",
    "user_word = input(\"Enter a word\")\n",
    "corrected_word = user_word[0]\n",
    "for index in range(1,len(user_word)):\n",
    "    if user_word[index] != user_word[index-1]:\n",
    "        corrected_word += user_word[index]\n",
    "print(f\"user's word : {user_word} ➞ {corrected_word}\")"
   ]
  }
 ],
 "metadata": {
  "kernelspec": {
   "display_name": "Python 3",
   "language": "python",
   "name": "python3"
  },
  "language_info": {
   "codemirror_mode": {
    "name": "ipython",
    "version": 3
   },
   "file_extension": ".py",
   "mimetype": "text/x-python",
   "name": "python",
   "nbconvert_exporter": "python",
   "pygments_lexer": "ipython3",
   "version": "3.9.6"
  }
 },
 "nbformat": 4,
 "nbformat_minor": 5
}
