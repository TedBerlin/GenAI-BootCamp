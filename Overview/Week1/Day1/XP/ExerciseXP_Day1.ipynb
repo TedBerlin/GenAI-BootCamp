{
 "cells": [
  {
   "cell_type": "code",
   "execution_count": null,
   "id": "2529f555",
   "metadata": {},
   "outputs": [],
   "source": [
    "# Exercise 1: Hello World\n",
    "\n",
    "print(\"Hello world\\n\" * 4, end=\"\")\n"
   ]
  },
  {
   "cell_type": "code",
   "execution_count": null,
   "id": "a344fa76",
   "metadata": {},
   "outputs": [],
   "source": [
    "\n",
    "class Door:\n",
    "    def __init__(self,is_opened):\n",
    "        self.is_opened = is_opened\n",
    "    def open_door(self):\n",
    "        self.is_opened = True\n",
    "        print(\"Door is opened\")\n",
    "    def close_door(self):\n",
    "        self.is_opened = False\n",
    "        print(\"Door is closed\")\n",
    "class BlockedDoor(Door):\n",
    "    def open_door(self):\n",
    "        raise Exception(\"A blocked door cannot be opened\")\n",
    "    def close_door(self):\n",
    "        raise Exception(\"A blocked door cannot be closed\")"
   ]
  },
  {
   "cell_type": "code",
   "execution_count": 1,
   "id": "932fb7c1",
   "metadata": {},
   "outputs": [
    {
     "name": "stdout",
     "output_type": "stream",
     "text": [
      "Woow this is an awesome book\n",
      "Title: Asimov\n",
      "5£\n",
      "False\n",
      "I am very bored\n",
      "True\n"
     ]
    }
   ],
   "source": [
    "class Book():\n",
    "    def __init__(self, title, author, publication_date, price):\n",
    "        self.title = title\n",
    "        self.author = author\n",
    "        self.publication = publication_date\n",
    "        self.price = price\n",
    "\n",
    "    def present(self):\n",
    "        print(f'Title: {self.title}')\n",
    "\n",
    "class Fiction(Book):\n",
    "    def __init__(self, title, author, publication_date, price, is_awesome):\n",
    "        super().__init__(title, author, publication_date, price)\n",
    "        self.genre = 'Fiction'\n",
    "        self.is_awesome = is_awesome\n",
    "        if self.is_awesome:\n",
    "            self.bored = False\n",
    "            print('Woow this is an awesome book')\n",
    "        else:\n",
    "            self.bored = True\n",
    "            print('I am very bored')\n",
    "\n",
    "if __name__ == '__main__':\n",
    "    foundation = Fiction('Asimov', 'Foundation', '1966', '5£', True)\n",
    "    foundation.present()\n",
    "    print(foundation.price)\n",
    "    print(foundation.bored)\n",
    "    boring_book = Fiction('boring_guy', 'boring_title', 'boring_date', '9000£', False)\n",
    "    print(boring_book.bored)"
   ]
  },
  {
   "cell_type": "code",
   "execution_count": 2,
   "id": "7f208a56",
   "metadata": {},
   "outputs": [
    {
     "name": "stdout",
     "output_type": "stream",
     "text": [
      "A new dog has been initialized !\n",
      "His name is Rex\n"
     ]
    }
   ],
   "source": [
    "class Dog():\n",
    "    dogs_king = \"Bernie IV\"\n",
    "\n",
    "    # Initializer / Instance Attributes\n",
    "    def __init__(self, name_of_the_dog):\n",
    "        print(\"A new dog has been initialized !\")\n",
    "        print(\"His name is\", name_of_the_dog)\n",
    "        self.name = name_of_the_dog\n",
    "\n",
    "    def bark(self):\n",
    "        print(f\"{self.name} barks ! WAF\")\n",
    "\n",
    "    def walk(self, number_of_meters):\n",
    "        print(f\"{self.name} walked {number_of_meters} meters\")\n",
    "\n",
    "    def rename(self, new_name):\n",
    "        self.name = new_name\n",
    "\n",
    "my_dog = Dog(\"Rex\")\n",
    "my_dog.rename(\"Paul\")"
   ]
  },
  {
   "cell_type": "code",
   "execution_count": 3,
   "id": "b321da8d",
   "metadata": {},
   "outputs": [
    {
     "name": "stdout",
     "output_type": "stream",
     "text": [
      "red\n",
      "red\n",
      "red\n",
      "6\n"
     ]
    }
   ],
   "source": [
    "class Circle:\n",
    "    color = \"red\"\n",
    "\n",
    "    def __init__(self, diameter):\n",
    "        self.diameter = diameter\n",
    "\n",
    "    def grow(self, factor=2):\n",
    "        self.diameter = self.diameter * factor\n",
    "\n",
    "    def get_color(self):\n",
    "       return Circle.color\n",
    "\n",
    "circle1 = Circle(2)\n",
    "print(circle1.color)\n",
    "print(Circle.color)\n",
    "print(circle1.get_color())\n",
    "circle1.grow(3)\n",
    "print(circle1.diameter)"
   ]
  },
  {
   "cell_type": "code",
   "execution_count": 4,
   "id": "0f1f2190",
   "metadata": {},
   "outputs": [
    {
     "ename": "NameError",
     "evalue": "name 'Person' is not defined",
     "output_type": "error",
     "traceback": [
      "\u001b[0;31m---------------------------------------------------------------------------\u001b[0m",
      "\u001b[0;31mNameError\u001b[0m                                 Traceback (most recent call last)",
      "Cell \u001b[0;32mIn[4], line 1\u001b[0m\n\u001b[0;32m----> 1\u001b[0m \u001b[38;5;28;01mclass\u001b[39;00m\u001b[38;5;250m \u001b[39m\u001b[38;5;21;01mMan\u001b[39;00m(\u001b[43mPerson\u001b[49m):\n\u001b[1;32m      2\u001b[0m     sex \u001b[38;5;241m=\u001b[39m \u001b[38;5;124m\"\u001b[39m\u001b[38;5;124mMale\u001b[39m\u001b[38;5;124m\"\u001b[39m\n\u001b[1;32m      4\u001b[0m     \u001b[38;5;129m@staticmethod\u001b[39m\n\u001b[1;32m      5\u001b[0m     \u001b[38;5;28;01mdef\u001b[39;00m\u001b[38;5;250m \u001b[39m\u001b[38;5;21mget_nicknames\u001b[39m():\n",
      "\u001b[0;31mNameError\u001b[0m: name 'Person' is not defined"
     ]
    }
   ],
   "source": [
    "class Man(Person):\n",
    "    sex = \"Male\"\n",
    "\n",
    "    @staticmethod\n",
    "    def get_nicknames():\n",
    "        return [\"Bro\", \"Dude\", \"Buddy\"]"
   ]
  },
  {
   "cell_type": "code",
   "execution_count": 5,
   "id": "b47e920f",
   "metadata": {},
   "outputs": [
    {
     "name": "stdout",
     "output_type": "stream",
     "text": [
      "\n",
      "Value of object : 10\n",
      "1\n",
      "\n",
      "Value of object : 20\n",
      "2\n"
     ]
    }
   ],
   "source": [
    "class MyClass(object):\n",
    "    count = 0\n",
    "\n",
    "    def __init__(self, val):\n",
    "        self.val = val\n",
    "        MyClass.count += 1\n",
    "\n",
    "    def set_val(self, newval):\n",
    "        self.val = newval\n",
    "\n",
    "    def get_val(self):\n",
    "        return self.val\n",
    "\n",
    "    @classmethod\n",
    "    def get_count(cls):\n",
    "        return cls.count\n",
    "\n",
    "object_1 = MyClass(10)\n",
    "print(\"\\nValue of object : %s\" % object_1.get_val())\n",
    "print(MyClass.get_count())\n",
    "\n",
    "object_2 = MyClass(20)\n",
    "print(\"\\nValue of object : %s\" % object_2.get_val())\n",
    "print(MyClass.get_count())"
   ]
  }
 ],
 "metadata": {
  "kernelspec": {
   "display_name": "Python 3",
   "language": "python",
   "name": "python3"
  },
  "language_info": {
   "codemirror_mode": {
    "name": "ipython",
    "version": 3
   },
   "file_extension": ".py",
   "mimetype": "text/x-python",
   "name": "python",
   "nbconvert_exporter": "python",
   "pygments_lexer": "ipython3",
   "version": "3.9.6"
  }
 },
 "nbformat": 4,
 "nbformat_minor": 5
}
