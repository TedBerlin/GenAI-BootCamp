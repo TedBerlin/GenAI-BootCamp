{
 "cells": [
  {
   "cell_type": "markdown",
   "id": "0858c59d",
   "metadata": {},
   "source": [
    "🌟 Exercise 1: Duplicate Detection and Removal\n"
   ]
  },
  {
   "cell_type": "markdown",
   "id": "544532d4",
   "metadata": {},
   "source": []
  },
  {
   "cell_type": "code",
   "execution_count": 1,
   "id": "22b55619",
   "metadata": {},
   "outputs": [
    {
     "data": {
      "text/html": [
       "<div>\n",
       "<style scoped>\n",
       "    .dataframe tbody tr th:only-of-type {\n",
       "        vertical-align: middle;\n",
       "    }\n",
       "\n",
       "    .dataframe tbody tr th {\n",
       "        vertical-align: top;\n",
       "    }\n",
       "\n",
       "    .dataframe thead th {\n",
       "        text-align: right;\n",
       "    }\n",
       "</style>\n",
       "<table border=\"1\" class=\"dataframe\">\n",
       "  <thead>\n",
       "    <tr style=\"text-align: right;\">\n",
       "      <th></th>\n",
       "      <th>PassengerId</th>\n",
       "      <th>Survived</th>\n",
       "      <th>Pclass</th>\n",
       "      <th>Name</th>\n",
       "      <th>Sex</th>\n",
       "      <th>Age</th>\n",
       "      <th>SibSp</th>\n",
       "      <th>Parch</th>\n",
       "      <th>Ticket</th>\n",
       "      <th>Fare</th>\n",
       "      <th>Cabin</th>\n",
       "      <th>Embarked</th>\n",
       "    </tr>\n",
       "  </thead>\n",
       "  <tbody>\n",
       "    <tr>\n",
       "      <th>0</th>\n",
       "      <td>1</td>\n",
       "      <td>0</td>\n",
       "      <td>3</td>\n",
       "      <td>Braund, Mr. Owen Harris</td>\n",
       "      <td>male</td>\n",
       "      <td>22.0</td>\n",
       "      <td>1</td>\n",
       "      <td>0</td>\n",
       "      <td>A/5 21171</td>\n",
       "      <td>7.2500</td>\n",
       "      <td>NaN</td>\n",
       "      <td>S</td>\n",
       "    </tr>\n",
       "    <tr>\n",
       "      <th>1</th>\n",
       "      <td>2</td>\n",
       "      <td>1</td>\n",
       "      <td>1</td>\n",
       "      <td>Cumings, Mrs. John Bradley (Florence Briggs Th...</td>\n",
       "      <td>female</td>\n",
       "      <td>38.0</td>\n",
       "      <td>1</td>\n",
       "      <td>0</td>\n",
       "      <td>PC 17599</td>\n",
       "      <td>71.2833</td>\n",
       "      <td>C85</td>\n",
       "      <td>C</td>\n",
       "    </tr>\n",
       "    <tr>\n",
       "      <th>2</th>\n",
       "      <td>3</td>\n",
       "      <td>1</td>\n",
       "      <td>3</td>\n",
       "      <td>Heikkinen, Miss. Laina</td>\n",
       "      <td>female</td>\n",
       "      <td>26.0</td>\n",
       "      <td>0</td>\n",
       "      <td>0</td>\n",
       "      <td>STON/O2. 3101282</td>\n",
       "      <td>7.9250</td>\n",
       "      <td>NaN</td>\n",
       "      <td>S</td>\n",
       "    </tr>\n",
       "    <tr>\n",
       "      <th>3</th>\n",
       "      <td>4</td>\n",
       "      <td>1</td>\n",
       "      <td>1</td>\n",
       "      <td>Futrelle, Mrs. Jacques Heath (Lily May Peel)</td>\n",
       "      <td>female</td>\n",
       "      <td>35.0</td>\n",
       "      <td>1</td>\n",
       "      <td>0</td>\n",
       "      <td>113803</td>\n",
       "      <td>53.1000</td>\n",
       "      <td>C123</td>\n",
       "      <td>S</td>\n",
       "    </tr>\n",
       "    <tr>\n",
       "      <th>4</th>\n",
       "      <td>5</td>\n",
       "      <td>0</td>\n",
       "      <td>3</td>\n",
       "      <td>Allen, Mr. William Henry</td>\n",
       "      <td>male</td>\n",
       "      <td>35.0</td>\n",
       "      <td>0</td>\n",
       "      <td>0</td>\n",
       "      <td>373450</td>\n",
       "      <td>8.0500</td>\n",
       "      <td>NaN</td>\n",
       "      <td>S</td>\n",
       "    </tr>\n",
       "  </tbody>\n",
       "</table>\n",
       "</div>"
      ],
      "text/plain": [
       "   PassengerId  Survived  Pclass  \\\n",
       "0            1         0       3   \n",
       "1            2         1       1   \n",
       "2            3         1       3   \n",
       "3            4         1       1   \n",
       "4            5         0       3   \n",
       "\n",
       "                                                Name     Sex   Age  SibSp  \\\n",
       "0                            Braund, Mr. Owen Harris    male  22.0      1   \n",
       "1  Cumings, Mrs. John Bradley (Florence Briggs Th...  female  38.0      1   \n",
       "2                             Heikkinen, Miss. Laina  female  26.0      0   \n",
       "3       Futrelle, Mrs. Jacques Heath (Lily May Peel)  female  35.0      1   \n",
       "4                           Allen, Mr. William Henry    male  35.0      0   \n",
       "\n",
       "   Parch            Ticket     Fare Cabin Embarked  \n",
       "0      0         A/5 21171   7.2500   NaN        S  \n",
       "1      0          PC 17599  71.2833   C85        C  \n",
       "2      0  STON/O2. 3101282   7.9250   NaN        S  \n",
       "3      0            113803  53.1000  C123        S  \n",
       "4      0            373450   8.0500   NaN        S  "
      ]
     },
     "execution_count": 1,
     "metadata": {},
     "output_type": "execute_result"
    }
   ],
   "source": [
    "import pandas as pd\n",
    "\n",
    "# Charger le dataset Titanic\n",
    "df = pd.read_csv(\"train.csv\")  # Assurez-vous que le fichier train.csv est dans le même dossier\n",
    "\n",
    "# Afficher les 5 premières lignes pour avoir un aperçu\n",
    "df.head()"
   ]
  },
  {
   "cell_type": "code",
   "execution_count": 13,
   "id": "55de5acd",
   "metadata": {},
   "outputs": [
    {
     "name": "stdout",
     "output_type": "stream",
     "text": [
      "Number of duplicated lines: 0\n",
      "Empty DataFrame\n",
      "Columns: [PassengerId, Survived, Pclass, Name, Sex, Age, SibSp, Parch, Ticket, Fare, Cabin, Embarked]\n",
      "Index: []\n"
     ]
    }
   ],
   "source": [
    "# Identified duplicate lines\n",
    "duplicates = df.duplicated()\n",
    "\n",
    "# Duplicates display (if any)\n",
    "print(f\"Number of duplicated lines: {duplicates.sum()}\")\n",
    "\n",
    "print(df[duplicates])"
   ]
  },
  {
   "cell_type": "code",
   "execution_count": null,
   "id": "6a9e25ba",
   "metadata": {},
   "outputs": [
    {
     "name": "stdout",
     "output_type": "stream",
     "text": [
      "Number of lines before removal : 891\n",
      "Number of lines after removal : 891\n"
     ]
    }
   ],
   "source": [
    "# Dimensions before removal\n",
    "print(f\"Number of lines before removal: {df.shape[0]}\")\n",
    "\n",
    "# Duplicates removal\n",
    "df_cleaned = df.drop_duplicates()\n",
    "\n",
    "# Dimensions after removal\n",
    "print(f\"Number of lines after removal: {df_cleaned.shape[0]}\")"
   ]
  },
  {
   "cell_type": "code",
   "execution_count": 6,
   "id": "07aacfe4",
   "metadata": {},
   "outputs": [
    {
     "name": "stdout",
     "output_type": "stream",
     "text": [
      "Nomber of remaining duplicates: 0\n"
     ]
    }
   ],
   "source": [
    "# Checking of possible remaining duplicates\n",
    "remaining_duplicates = df_cleaned.duplicated().sum()\n",
    "print(f\"Nomber of remaining duplicates: {remaining_duplicates}\")"
   ]
  },
  {
   "cell_type": "markdown",
   "id": "b7d69b66",
   "metadata": {},
   "source": [
    "🌟 Exercise 2: Handling Missing Values"
   ]
  },
  {
   "cell_type": "code",
   "execution_count": 7,
   "id": "7e1ba0f7",
   "metadata": {},
   "outputs": [],
   "source": [
    "import pandas as pd\n",
    "\n",
    "df = pd.read_csv(\"train.csv\")"
   ]
  },
  {
   "cell_type": "code",
   "execution_count": 15,
   "id": "d3d45830",
   "metadata": {},
   "outputs": [
    {
     "name": "stdout",
     "output_type": "stream",
     "text": [
      "Columns with missing values::\n",
      "Age         177\n",
      "Cabin       687\n",
      "Embarked      2\n",
      "dtype: int64\n"
     ]
    }
   ],
   "source": [
    "# Nombre de valeurs manquantes par colonne\n",
    "missing = df.isnull().sum()\n",
    "missing = missing[missing > 0]\n",
    "\n",
    "print(\"Columns with missing values::\")\n",
    "print(missing)"
   ]
  },
  {
   "cell_type": "code",
   "execution_count": null,
   "id": "619b78d5",
   "metadata": {},
   "outputs": [
    {
     "name": "stdout",
     "output_type": "stream",
     "text": [
      "Dimensions aprafter removal of the lines with missing values: (183, 12)\n"
     ]
    }
   ],
   "source": [
    "# dropna\n",
    "\n",
    "df_dropna = df.dropna()\n",
    "print(f\"Dimensions aprafter removal of the lines with missing values: {df_dropna.shape}\")"
   ]
  },
  {
   "cell_type": "code",
   "execution_count": null,
   "id": "fd4e5a11",
   "metadata": {},
   "outputs": [],
   "source": [
    "# Replace the missing ages via median\n",
    "df['Age'] = df['Age'].fillna(df['Age'].median())\n",
    "\n",
    "# Remplacer les ports manquants par la valeur la plus fréquente (mode)\n",
    "df['Embarked'] = df['Embarked'].fillna(df['Embarked'].mode()[0])\n",
    "\n",
    "# Delete the Sex column if too many missing values\n",
    "df = df.drop(columns='Sex')\n"
   ]
  },
  {
   "cell_type": "markdown",
   "id": "7d673b35",
   "metadata": {},
   "source": [
    "🌟 Exercise 3: Feature Engineering"
   ]
  },
  {
   "cell_type": "code",
   "execution_count": 21,
   "id": "9a427529",
   "metadata": {},
   "outputs": [],
   "source": [
    "import pandas as pd\n",
    "from sklearn.preprocessing import LabelEncoder, OneHotEncoder, StandardScaler\n",
    "\n",
    "df = pd.read_csv(\"train.csv\")"
   ]
  },
  {
   "cell_type": "code",
   "execution_count": 22,
   "id": "1fa63e16",
   "metadata": {},
   "outputs": [],
   "source": [
    "# Family Size\n",
    "\n",
    "df['FamilySize'] = df['SibSp'] + df['Parch'] + 1"
   ]
  },
  {
   "cell_type": "code",
   "execution_count": 23,
   "id": "2006a6a4",
   "metadata": {},
   "outputs": [],
   "source": [
    "# Titles (ex: Mr, Miss, etc.)\n",
    "\n",
    "df['Title'] = df['Name'].str.extract('([A-Za-z]+)\\.', expand=False)"
   ]
  },
  {
   "cell_type": "code",
   "execution_count": null,
   "id": "58541cbd",
   "metadata": {},
   "outputs": [],
   "source": [
    "# Label Encoding with LabelEncoder (for Sex, Embarked, Title)\n",
    "\n",
    "from sklearn.preprocessing import LabelEncoder\n",
    "\n",
    "label_encoders = {}\n",
    "categorical_cols = ['Sex', 'Embarked', 'Title']\n",
    "\n",
    "for col in categorical_cols:\n",
    "    le = LabelEncoder()\n",
    "    df[col] = le.fit_transform(df[col])\n",
    "    label_encoders[col] = le"
   ]
  },
  {
   "cell_type": "code",
   "execution_count": 26,
   "id": "95c0a6a2",
   "metadata": {},
   "outputs": [],
   "source": [
    "# One-Hot Encoding (si nécessaire)\n",
    "\n",
    "df = pd.get_dummies(df, columns=['Embarked', 'Title'], drop_first=True)"
   ]
  },
  {
   "cell_type": "code",
   "execution_count": 25,
   "id": "fdb4c754",
   "metadata": {},
   "outputs": [],
   "source": [
    "# Normalisation of numeric variables \n",
    "\n",
    "\n",
    "scaler = StandardScaler()\n",
    "df[['Age', 'Fare', 'FamilySize']] = scaler.fit_transform(df[['Age', 'Fare', 'FamilySize']])"
   ]
  },
  {
   "cell_type": "code",
   "execution_count": 29,
   "id": "937650b0",
   "metadata": {},
   "outputs": [
    {
     "name": "stdout",
     "output_type": "stream",
     "text": [
      "Overview of transformed data:\n",
      "   PassengerId  Survived  Pclass  \\\n",
      "0            1         0       3   \n",
      "1            2         1       1   \n",
      "2            3         1       3   \n",
      "3            4         1       1   \n",
      "4            5         0       3   \n",
      "\n",
      "                                                Name  Sex       Age  SibSp  \\\n",
      "0                            Braund, Mr. Owen Harris    1 -0.530377      1   \n",
      "1  Cumings, Mrs. John Bradley (Florence Briggs Th...    0  0.571831      1   \n",
      "2                             Heikkinen, Miss. Laina    0 -0.254825      0   \n",
      "3       Futrelle, Mrs. Jacques Heath (Lily May Peel)    0  0.365167      1   \n",
      "4                           Allen, Mr. William Henry    1  0.365167      0   \n",
      "\n",
      "   Parch            Ticket      Fare  ... Title_7  Title_8  Title_9  Title_10  \\\n",
      "0      0         A/5 21171 -0.502445  ...   False    False    False     False   \n",
      "1      0          PC 17599  0.786845  ...   False    False    False     False   \n",
      "2      0  STON/O2. 3101282 -0.488854  ...   False    False     True     False   \n",
      "3      0            113803  0.420730  ...   False    False    False     False   \n",
      "4      0            373450 -0.486337  ...   False    False    False     False   \n",
      "\n",
      "   Title_11  Title_12  Title_13  Title_14  Title_15  Title_16  \n",
      "0     False      True     False     False     False     False  \n",
      "1     False     False      True     False     False     False  \n",
      "2     False     False     False     False     False     False  \n",
      "3     False     False      True     False     False     False  \n",
      "4     False      True     False     False     False     False  \n",
      "\n",
      "[5 rows x 31 columns]\n"
     ]
    }
   ],
   "source": [
    "# Final checking\n",
    "\n",
    "print(\"Overview of transformed data:\")\n",
    "print(df.head())"
   ]
  },
  {
   "cell_type": "markdown",
   "id": "38e04c83",
   "metadata": {},
   "source": [
    "🌟 Exercise 4: Outlier Detection and Handling"
   ]
  },
  {
   "cell_type": "code",
   "execution_count": 30,
   "id": "1eccbdf5",
   "metadata": {},
   "outputs": [],
   "source": [
    "# Data loading\n",
    "\n",
    "import pandas as pd\n",
    "import numpy as np\n",
    "import matplotlib.pyplot as plt\n",
    "import seaborn as sns\n",
    "from scipy import stats\n",
    "\n",
    "df = pd.read_csv(\"train.csv\")"
   ]
  },
  {
   "cell_type": "code",
   "execution_count": 31,
   "id": "d09284c4",
   "metadata": {},
   "outputs": [
    {
     "data": {
      "image/png": "[encoded data removed]",
      "text/plain": [
       "<Figure size 1200x400 with 2 Axes>"
      ]
     },
     "metadata": {},
     "output_type": "display_data"
    }
   ],
   "source": [
    "# Fare & Age visualization\n",
    "\n",
    "# Distribution before treatment \n",
    "fig, axs = plt.subplots(1, 2, figsize=(12, 4))\n",
    "sns.boxplot(df['Fare'], ax=axs[0])\n",
    "axs[0].set_title(\"Boxplot - Fare\")\n",
    "sns.boxplot(df['Age'], ax=axs[1])\n",
    "axs[1].set_title(\"Boxplot - Age\")\n",
    "plt.show()\n"
   ]
  },
  {
   "cell_type": "code",
   "execution_count": 32,
   "id": "36bcb712",
   "metadata": {},
   "outputs": [
    {
     "name": "stdout",
     "output_type": "stream",
     "text": [
      "Outliers détectés - Fare : 116\n",
      "Outliers détectés - Age : 11\n"
     ]
    }
   ],
   "source": [
    "# Méthode A : IQR (Interquartile Range)\n",
    "\n",
    "\n",
    "def detect_outliers_iqr(data, column):\n",
    "    Q1 = data[column].quantile(0.25)\n",
    "    Q3 = data[column].quantile(0.75)\n",
    "    IQR = Q3 - Q1\n",
    "    lower_bound = Q1 - 1.5 * IQR\n",
    "    upper_bound = Q3 + 1.5 * IQR\n",
    "    return data[(data[column] < lower_bound) | (data[column] > upper_bound)]\n",
    "\n",
    "# Outliers détectés par IQR\n",
    "outliers_fare = detect_outliers_iqr(df, 'Fare')\n",
    "outliers_age = detect_outliers_iqr(df, 'Age')\n",
    "\n",
    "print(\"Outliers détectés - Fare :\", len(outliers_fare))\n",
    "print(\"Outliers détectés - Age :\", len(outliers_age))"
   ]
  },
  {
   "cell_type": "code",
   "execution_count": 33,
   "id": "c0ee493f",
   "metadata": {},
   "outputs": [
    {
     "ename": "IndexingError",
     "evalue": "Unalignable boolean Series provided as indexer (index of the boolean Series and of the indexed object do not match).",
     "output_type": "error",
     "traceback": [
      "\u001b[0;31m---------------------------------------------------------------------------\u001b[0m",
      "\u001b[0;31mIndexingError\u001b[0m                             Traceback (most recent call last)",
      "Cell \u001b[0;32mIn[33], line 9\u001b[0m\n\u001b[1;32m      6\u001b[0m     \u001b[38;5;28;01mreturn\u001b[39;00m data[column][z_scores \u001b[38;5;241m>\u001b[39m threshold]\n\u001b[1;32m      8\u001b[0m z_outliers_fare \u001b[38;5;241m=\u001b[39m detect_outliers_zscore(df, \u001b[38;5;124m'\u001b[39m\u001b[38;5;124mFare\u001b[39m\u001b[38;5;124m'\u001b[39m)\n\u001b[0;32m----> 9\u001b[0m z_outliers_age \u001b[38;5;241m=\u001b[39m \u001b[43mdetect_outliers_zscore\u001b[49m\u001b[43m(\u001b[49m\u001b[43mdf\u001b[49m\u001b[43m,\u001b[49m\u001b[43m \u001b[49m\u001b[38;5;124;43m'\u001b[39;49m\u001b[38;5;124;43mAge\u001b[39;49m\u001b[38;5;124;43m'\u001b[39;49m\u001b[43m)\u001b[49m\n\u001b[1;32m     11\u001b[0m \u001b[38;5;28mprint\u001b[39m(\u001b[38;5;124m\"\u001b[39m\u001b[38;5;124mZ-score outliers - Fare :\u001b[39m\u001b[38;5;124m\"\u001b[39m, \u001b[38;5;28mlen\u001b[39m(z_outliers_fare))\n\u001b[1;32m     12\u001b[0m \u001b[38;5;28mprint\u001b[39m(\u001b[38;5;124m\"\u001b[39m\u001b[38;5;124mZ-score outliers - Age :\u001b[39m\u001b[38;5;124m\"\u001b[39m, \u001b[38;5;28mlen\u001b[39m(z_outliers_age))\n",
      "Cell \u001b[0;32mIn[33], line 6\u001b[0m, in \u001b[0;36mdetect_outliers_zscore\u001b[0;34m(data, column, threshold)\u001b[0m\n\u001b[1;32m      4\u001b[0m \u001b[38;5;28;01mdef\u001b[39;00m\u001b[38;5;250m \u001b[39m\u001b[38;5;21mdetect_outliers_zscore\u001b[39m(data, column, threshold\u001b[38;5;241m=\u001b[39m\u001b[38;5;241m3\u001b[39m):\n\u001b[1;32m      5\u001b[0m     z_scores \u001b[38;5;241m=\u001b[39m np\u001b[38;5;241m.\u001b[39mabs(stats\u001b[38;5;241m.\u001b[39mzscore(data[column]\u001b[38;5;241m.\u001b[39mdropna()))\n\u001b[0;32m----> 6\u001b[0m     \u001b[38;5;28;01mreturn\u001b[39;00m \u001b[43mdata\u001b[49m\u001b[43m[\u001b[49m\u001b[43mcolumn\u001b[49m\u001b[43m]\u001b[49m\u001b[43m[\u001b[49m\u001b[43mz_scores\u001b[49m\u001b[43m \u001b[49m\u001b[38;5;241;43m>\u001b[39;49m\u001b[43m \u001b[49m\u001b[43mthreshold\u001b[49m\u001b[43m]\u001b[49m\n",
      "File \u001b[0;32m~/Library/Python/3.9/lib/python/site-packages/pandas/core/series.py:1158\u001b[0m, in \u001b[0;36mSeries.__getitem__\u001b[0;34m(self, key)\u001b[0m\n\u001b[1;32m   1155\u001b[0m     \u001b[38;5;28;01mreturn\u001b[39;00m \u001b[38;5;28mself\u001b[39m\u001b[38;5;241m.\u001b[39m_getitem_slice(key)\n\u001b[1;32m   1157\u001b[0m \u001b[38;5;28;01mif\u001b[39;00m com\u001b[38;5;241m.\u001b[39mis_bool_indexer(key):\n\u001b[0;32m-> 1158\u001b[0m     key \u001b[38;5;241m=\u001b[39m \u001b[43mcheck_bool_indexer\u001b[49m\u001b[43m(\u001b[49m\u001b[38;5;28;43mself\u001b[39;49m\u001b[38;5;241;43m.\u001b[39;49m\u001b[43mindex\u001b[49m\u001b[43m,\u001b[49m\u001b[43m \u001b[49m\u001b[43mkey\u001b[49m\u001b[43m)\u001b[49m\n\u001b[1;32m   1159\u001b[0m     key \u001b[38;5;241m=\u001b[39m np\u001b[38;5;241m.\u001b[39masarray(key, dtype\u001b[38;5;241m=\u001b[39m\u001b[38;5;28mbool\u001b[39m)\n\u001b[1;32m   1160\u001b[0m     \u001b[38;5;28;01mreturn\u001b[39;00m \u001b[38;5;28mself\u001b[39m\u001b[38;5;241m.\u001b[39m_get_rows_with_mask(key)\n",
      "File \u001b[0;32m~/Library/Python/3.9/lib/python/site-packages/pandas/core/indexing.py:2662\u001b[0m, in \u001b[0;36mcheck_bool_indexer\u001b[0;34m(index, key)\u001b[0m\n\u001b[1;32m   2660\u001b[0m indexer \u001b[38;5;241m=\u001b[39m result\u001b[38;5;241m.\u001b[39mindex\u001b[38;5;241m.\u001b[39mget_indexer_for(index)\n\u001b[1;32m   2661\u001b[0m \u001b[38;5;28;01mif\u001b[39;00m \u001b[38;5;241m-\u001b[39m\u001b[38;5;241m1\u001b[39m \u001b[38;5;129;01min\u001b[39;00m indexer:\n\u001b[0;32m-> 2662\u001b[0m     \u001b[38;5;28;01mraise\u001b[39;00m IndexingError(\n\u001b[1;32m   2663\u001b[0m         \u001b[38;5;124m\"\u001b[39m\u001b[38;5;124mUnalignable boolean Series provided as \u001b[39m\u001b[38;5;124m\"\u001b[39m\n\u001b[1;32m   2664\u001b[0m         \u001b[38;5;124m\"\u001b[39m\u001b[38;5;124mindexer (index of the boolean Series and of \u001b[39m\u001b[38;5;124m\"\u001b[39m\n\u001b[1;32m   2665\u001b[0m         \u001b[38;5;124m\"\u001b[39m\u001b[38;5;124mthe indexed object do not match).\u001b[39m\u001b[38;5;124m\"\u001b[39m\n\u001b[1;32m   2666\u001b[0m     )\n\u001b[1;32m   2668\u001b[0m result \u001b[38;5;241m=\u001b[39m result\u001b[38;5;241m.\u001b[39mtake(indexer)\n\u001b[1;32m   2670\u001b[0m \u001b[38;5;66;03m# fall through for boolean\u001b[39;00m\n",
      "\u001b[0;31mIndexingError\u001b[0m: Unalignable boolean Series provided as indexer (index of the boolean Series and of the indexed object do not match)."
     ]
    }
   ],
   "source": [
    "# Méthode B : Z-score\n",
    "\n",
    "\n",
    "def detect_outliers_zscore(data, column, threshold=3):\n",
    "    z_scores = np.abs(stats.zscore(data[column].dropna()))\n",
    "    return data[column][z_scores > threshold]\n",
    "\n",
    "z_outliers_fare = detect_outliers_zscore(df, 'Fare')\n",
    "z_outliers_age = detect_outliers_zscore(df, 'Age')\n",
    "\n",
    "print(\"Z-score outliers - Fare :\", len(z_outliers_fare))\n",
    "print(\"Z-score outliers - Age :\", len(z_outliers_age))"
   ]
  },
  {
   "cell_type": "code",
   "execution_count": null,
   "id": "7e4eda69",
   "metadata": {},
   "outputs": [],
   "source": [
    "# Reindexing:\n",
    "\n",
    "# .dropna(), qui modifie l'indexation, donc le masque z_scores > threshold ne correspond plus à l'index d'origine du DataFrame.\n",
    "\n",
    "\n",
    "def detect_outliers_zscore(data, column, threshold=3):\n",
    "    col_no_na = data[column].dropna()\n",
    "    z_scores = np.abs(stats.zscore(col_no_na))\n",
    "    return data.loc[col_no_na.index][z_scores > threshold]"
   ]
  },
  {
   "cell_type": "code",
   "execution_count": 37,
   "id": "d8380cdb",
   "metadata": {},
   "outputs": [
    {
     "name": "stdout",
     "output_type": "stream",
     "text": [
      "Number of outliers in Age : 2\n"
     ]
    }
   ],
   "source": [
    "\n",
    "from scipy import stats\n",
    "import numpy as np\n",
    "\n",
    "def detect_outliers_zscore(data, column, threshold=3):\n",
    "    col_no_na = data[column].dropna()\n",
    "    z_scores = np.abs(stats.zscore(col_no_na))\n",
    "    outlier_mask = z_scores > threshold\n",
    "    return data.loc[col_no_na.index][outlier_mask]\n",
    "\n",
    "z_outliers_age = detect_outliers_zscore(df, 'Age')\n",
    "print(\"Number of outliers in Age :\", len(z_outliers_age))"
   ]
  },
  {
   "cell_type": "code",
   "execution_count": null,
   "id": "c5ba24c1",
   "metadata": {},
   "outputs": [
    {
     "name": "stdout",
     "output_type": "stream",
     "text": [
      "Iinitiale size: 891\n",
      "After removal of outliers: 601\n"
     ]
    }
   ],
   "source": [
    "# Étape 4 – Traitement des outliers v1 - IQR removal\n",
    "\n",
    "\n",
    "def remove_outliers_iqr(data, column):\n",
    "    Q1 = data[column].quantile(0.25)\n",
    "    Q3 = data[column].quantile(0.75)\n",
    "    IQR = Q3 - Q1\n",
    "    lower_bound = Q1 - 1.5 * IQR\n",
    "    upper_bound = Q3 + 1.5 * IQR\n",
    "    return data[(data[column] >= lower_bound) & (data[column] <= upper_bound)]\n",
    "\n",
    "df_cleaned = df.copy()\n",
    "df_cleaned = remove_outliers_iqr(df_cleaned, 'Fare')\n",
    "df_cleaned = remove_outliers_iqr(df_cleaned, 'Age')\n",
    "\n",
    "print(\"Iinitiale size:\", df.shape[0])\n",
    "print(\"After removal of outliers:\", df_cleaned.shape[0])"
   ]
  },
  {
   "cell_type": "code",
   "execution_count": 41,
   "id": "4cfc2bbf",
   "metadata": {},
   "outputs": [],
   "source": [
    "# Étape 4 – Traitement des outliers v2 - capping\n",
    "\n",
    "def cap_outliers(data, column):\n",
    "    Q1 = data[column].quantile(0.25)\n",
    "    Q3 = data[column].quantile(0.75)\n",
    "    IQR = Q3 - Q1\n",
    "    lower = Q1 - 1.5 * IQR\n",
    "    upper = Q3 + 1.5 * IQR\n",
    "    data[column] = np.where(data[column] < lower, lower,\n",
    "                            np.where(data[column] > upper, upper, data[column]))\n",
    "    return data\n",
    "\n",
    "df_capped = df.copy()\n",
    "df_capped = cap_outliers(df_capped, 'Fare')\n",
    "df_capped = cap_outliers(df_capped, 'Age')\n"
   ]
  },
  {
   "cell_type": "code",
   "execution_count": null,
   "id": "ccbc5288",
   "metadata": {},
   "outputs": [
    {
     "data": {
      "image/png": "[encoded data removed]",
      "text/plain": [
       "<Figure size 1200x400 with 2 Axes>"
      ]
     },
     "metadata": {},
     "output_type": "display_data"
    }
   ],
   "source": [
    "# Étape 5 – Visualisation after treatment\n",
    "\n",
    "# Visualisation après suppression ou capping\n",
    "\n",
    "fig, axs = plt.subplots(1, 2, figsize=(12, 4))\n",
    "sns.boxplot(df_cleaned['Fare'], ax=axs[0])\n",
    "axs[0].set_title(\"Fare (outliers supprremovedimés)\")\n",
    "sns.boxplot(df_cleaned['Age'], ax=axs[1])\n",
    "axs[1].set_title(\"Age (outliers removed)\")\n",
    "plt.show()"
   ]
  },
  {
   "cell_type": "markdown",
   "id": "28221308",
   "metadata": {},
   "source": [
    "=== Conclusion ==\n",
    "\n",
    "\n",
    "“Decide on a strategy to handle the identified outliers...”\n",
    "\n",
    "* outliers identified >> data contextualisation\n",
    "    Fare variable : some exceptionally high values  >> issue\n",
    "\n",
    "        ° Either removal of those data because of rarety or non importance for the job.\n",
    "        ° Or cap these data to a max level what was THE choice retained\n",
    "\n",
    "\n",
    "\n",
    "“Implement the chosen strategy and assess its impact on the dataset.”\n",
    "\n",
    "* Capping implémentation by replacing the values superior to 95ᵉ percentile by the  threshold value.\n",
    "\n",
    "* Assessment: \n",
    "\n",
    "    Descriptives statistics compared before and after (mean, max, standard deviation).\n",
    "    Visualisation of the distributions with boxplots or histograms.\n"
   ]
  },
  {
   "cell_type": "markdown",
   "id": "cac9f0bd",
   "metadata": {},
   "source": [
    "🌟 Exercise 5: Data Standardization and Normalization"
   ]
  },
  {
   "cell_type": "code",
   "execution_count": 43,
   "id": "dbfb5159",
   "metadata": {},
   "outputs": [],
   "source": [
    "# Étape 1: Librairies import\n",
    "\n",
    "import pandas as pd\n",
    "from sklearn.preprocessing import StandardScaler, MinMaxScaler\n",
    "import matplotlib.pyplot as plt\n",
    "import seaborn as sns\n",
    "\n",
    "# Étape 2 : Data uplod via 'df'  (train.csv already loaded)\n",
    "df = pd.read_csv('train.csv') "
   ]
  },
  {
   "cell_type": "code",
   "execution_count": 44,
   "id": "e3c9359b",
   "metadata": {},
   "outputs": [
    {
     "name": "stdout",
     "output_type": "stream",
     "text": [
      "              Age        Fare\n",
      "count  714.000000  891.000000\n",
      "mean    29.699118   32.204208\n",
      "std     14.526497   49.693429\n",
      "min      0.420000    0.000000\n",
      "25%     20.125000    7.910400\n",
      "50%     28.000000   14.454200\n",
      "75%     38.000000   31.000000\n",
      "max     80.000000  512.329200\n"
     ]
    }
   ],
   "source": [
    "# Étape 3: Columns identified to be transformed\n",
    "\n",
    "# Sélection of relevant columns\n",
    "numerical_cols = ['Age', 'Fare']\n",
    "\n",
    "#  Descriptive statistics before transformation\n",
    "print(df[numerical_cols].describe())"
   ]
  },
  {
   "cell_type": "code",
   "execution_count": 45,
   "id": "3514b7a7",
   "metadata": {},
   "outputs": [
    {
     "data": {
      "image/png": "[encoded data removed]",
      "text/plain": [
       "<Figure size 1200x400 with 2 Axes>"
      ]
     },
     "metadata": {},
     "output_type": "display_data"
    }
   ],
   "source": [
    "# Étape 4 : Standardisation with StandardScaler\n",
    "\n",
    "# Standardisation\n",
    "scaler_standard = StandardScaler()\n",
    "df[['Age_standardized', 'Fare_standardized']] = scaler_standard.fit_transform(df[numerical_cols])\n",
    "\n",
    "#  Visual verification\n",
    "fig, axs = plt.subplots(1, 2, figsize=(12, 4))\n",
    "sns.histplot(df['Age_standardized'], kde=True, ax=axs[0])\n",
    "axs[0].set_title('Age standardisé')\n",
    "sns.histplot(df['Fare_standardized'], kde=True, ax=axs[1])\n",
    "axs[1].set_title('Fare standardisé')\n",
    "plt.show()"
   ]
  },
  {
   "cell_type": "code",
   "execution_count": 48,
   "id": "e4fdff18",
   "metadata": {},
   "outputs": [
    {
     "data": {
      "image/png": "[encoded data removed]",
      "text/plain": [
       "<Figure size 1200x400 with 2 Axes>"
      ]
     },
     "metadata": {},
     "output_type": "display_data"
    }
   ],
   "source": [
    "# Étape 5 : Normalisation (Min-Max Scaling)\n",
    "\n",
    "# Normalisation\n",
    "scaler_minmax = MinMaxScaler()\n",
    "df[['Age_normalized', 'Fare_normalized']] = scaler_minmax.fit_transform(df[numerical_cols])\n",
    "\n",
    "#  Visual verification\n",
    "fig, axs = plt.subplots(1, 2, figsize=(12, 4))\n",
    "sns.histplot(df['Age_normalized'], kde=True, ax=axs[0])\n",
    "axs[0].set_title('Normalised Age  [0,1]')\n",
    "sns.histplot(df['Fare_normalized'], kde=True, ax=axs[1])\n",
    "axs[1].set_title('Normalised Fare [0,1]')\n",
    "plt.show()"
   ]
  },
  {
   "cell_type": "code",
   "execution_count": 49,
   "id": "2627ff1e",
   "metadata": {},
   "outputs": [
    {
     "name": "stdout",
     "output_type": "stream",
     "text": [
      "    Age  Age_standardized  Age_normalized\n",
      "0  22.0         -0.530377        0.271174\n",
      "1  38.0          0.571831        0.472229\n",
      "2  26.0         -0.254825        0.321438\n",
      "3  35.0          0.365167        0.434531\n",
      "4  35.0          0.365167        0.434531\n",
      "      Fare  Fare_standardized  Fare_normalized\n",
      "0   7.2500          -0.502445         0.014151\n",
      "1  71.2833           0.786845         0.139136\n",
      "2   7.9250          -0.488854         0.015469\n",
      "3  53.1000           0.420730         0.103644\n",
      "4   8.0500          -0.486337         0.015713\n"
     ]
    }
   ],
   "source": [
    "print(df[['Age', 'Age_standardized', 'Age_normalized']].head())\n",
    "print(df[['Fare', 'Fare_standardized', 'Fare_normalized']].head())"
   ]
  },
  {
   "cell_type": "markdown",
   "id": "d5393a4e",
   "metadata": {},
   "source": [
    "🌟 Exercise 6: Feature Encoding"
   ]
  },
  {
   "cell_type": "code",
   "execution_count": 50,
   "id": "fc7dab5f",
   "metadata": {},
   "outputs": [
    {
     "name": "stdout",
     "output_type": "stream",
     "text": [
      "PassengerId      int64\n",
      "Survived         int64\n",
      "Pclass           int64\n",
      "Name            object\n",
      "Sex             object\n",
      "Age            float64\n",
      "SibSp            int64\n",
      "Parch            int64\n",
      "Ticket          object\n",
      "Fare           float64\n",
      "Cabin           object\n",
      "Embarked        object\n",
      "dtype: object\n",
      "Colonnes catégorielles : ['Name', 'Sex', 'Ticket', 'Cabin', 'Embarked']\n"
     ]
    }
   ],
   "source": [
    "# Étape 1 : Upload / Categorical Columns\n",
    "\n",
    "import pandas as pd\n",
    "from sklearn.preprocessing import LabelEncoder\n",
    "\n",
    "# Dataset upload\n",
    "df = pd.read_csv(\"train.csv\")\n",
    "\n",
    "# Datatypes display\n",
    "print(df.dtypes)\n",
    "\n",
    "# Categorical Columns\n",
    "categorical_cols = df.select_dtypes(include=['object']).columns\n",
    "print(\"Colonnes catégorielles :\", list(categorical_cols))"
   ]
  },
  {
   "cell_type": "code",
   "execution_count": 51,
   "id": "26441f75",
   "metadata": {},
   "outputs": [
    {
     "name": "stdout",
     "output_type": "stream",
     "text": [
      "Index(['Sex_male'], dtype='object')\n",
      "Index(['Embarked_Q', 'Embarked_S'], dtype='object')\n"
     ]
    }
   ],
   "source": [
    "# Étape 2 : One-Hot Encoding \n",
    "\n",
    "# One-hot encoding for 'Sex' and 'Embarked'\n",
    "df_encoded = pd.get_dummies(df, columns=['Sex', 'Embarked'], drop_first=True)\n",
    "\n",
    "# New columns display\n",
    "print(df_encoded.filter(like='Sex_').columns)\n",
    "print(df_encoded.filter(like='Embarked_').columns)"
   ]
  },
  {
   "cell_type": "code",
   "execution_count": null,
   "id": "19edfecd",
   "metadata": {},
   "outputs": [
    {
     "name": "stdout",
     "output_type": "stream",
     "text": [
      "{'A': np.int64(0), 'B': np.int64(1), 'C': np.int64(2), 'D': np.int64(3), 'E': np.int64(4), 'F': np.int64(5), 'G': np.int64(6), 'T': np.int64(7), 'n': np.int64(8)}\n"
     ]
    }
   ],
   "source": [
    "# Étape 3 : Label Encoding (ordinal variable)\n",
    "\n",
    "\n",
    "df['CabinClass'] = df['Cabin'].astype(str).str[0] \n",
    "\n",
    "# Supposons que tu as une colonne ordinale comme 'CabinClass'\n",
    "label_encoder = LabelEncoder()\n",
    "df['CabinClass_Encoded'] = label_encoder.fit_transform(df['CabinClass'])\n",
    "\n",
    "# Afficher les correspondances\n",
    "print(dict(zip(label_encoder.classes_, label_encoder.transform(label_encoder.classes_))))"
   ]
  },
  {
   "cell_type": "code",
   "execution_count": null,
   "id": "6db1661f",
   "metadata": {},
   "outputs": [
    {
     "name": "stdout",
     "output_type": "stream",
     "text": [
      "   PassengerId  Survived  Pclass  \\\n",
      "0            1         0       3   \n",
      "1            2         1       1   \n",
      "2            3         1       3   \n",
      "3            4         1       1   \n",
      "4            5         0       3   \n",
      "\n",
      "                                                Name   Age  SibSp  Parch  \\\n",
      "0                            Braund, Mr. Owen Harris  22.0      1      0   \n",
      "1  Cumings, Mrs. John Bradley (Florence Briggs Th...  38.0      1      0   \n",
      "2                             Heikkinen, Miss. Laina  26.0      0      0   \n",
      "3       Futrelle, Mrs. Jacques Heath (Lily May Peel)  35.0      1      0   \n",
      "4                           Allen, Mr. William Henry  35.0      0      0   \n",
      "\n",
      "             Ticket     Fare Cabin  Sex_male  Embarked_Q  Embarked_S  \n",
      "0         A/5 21171   7.2500   NaN      True       False        True  \n",
      "1          PC 17599  71.2833   C85     False       False       False  \n",
      "2  STON/O2. 3101282   7.9250   NaN     False       False        True  \n",
      "3            113803  53.1000  C123     False       False        True  \n",
      "4            373450   8.0500   NaN      True       False        True  \n"
     ]
    }
   ],
   "source": [
    "# Étape 4 : Encoded columns integration\n",
    "\n",
    "print(df_encoded.head())"
   ]
  },
  {
   "cell_type": "markdown",
   "id": "791733c9",
   "metadata": {},
   "source": [
    "🌟 Exercise 7: Data Transformation for Age Feature"
   ]
  },
  {
   "cell_type": "code",
   "execution_count": 54,
   "id": "e695921e",
   "metadata": {},
   "outputs": [],
   "source": [
    "import pandas as pd\n",
    "\n",
    "# Dataset upload\n",
    "df = pd.read_csv(\"train.csv\")"
   ]
  },
  {
   "cell_type": "code",
   "execution_count": 56,
   "id": "c9dc7832",
   "metadata": {},
   "outputs": [
    {
     "name": "stdout",
     "output_type": "stream",
     "text": [
      "    Age    AgeGroup\n",
      "0  22.0  YoungAdult\n",
      "1  38.0       Adult\n",
      "2  26.0  YoungAdult\n",
      "3  35.0  YoungAdult\n",
      "4  35.0  YoungAdult\n",
      "5   NaN         NaN\n",
      "6  54.0       Adult\n",
      "7   2.0       Child\n",
      "8  27.0  YoungAdult\n",
      "9  14.0    Teenager\n"
     ]
    }
   ],
   "source": [
    "# Étape 1 : Age groups creation with pd.cut()\n",
    "\n",
    "# Age slots definition\n",
    "bins = [0, 12, 18, 35, 60, 100]\n",
    "labels = ['Child', 'Teenager', 'YoungAdult', 'Adult', 'Senior']\n",
    "\n",
    "# Column 'Age'\n",
    "df['AgeGroup'] = pd.cut(df['Age'], bins=bins, labels=labels)\n",
    "\n",
    "# First values verification\n",
    "print(df[['Age', 'AgeGroup']].head(10))"
   ]
  },
  {
   "cell_type": "code",
   "execution_count": 57,
   "id": "4b85f130",
   "metadata": {},
   "outputs": [
    {
     "name": "stdout",
     "output_type": "stream",
     "text": [
      "    Age    AgeGroup  AgeGroup_Child  AgeGroup_Teenager  AgeGroup_YoungAdult  \\\n",
      "0  22.0  YoungAdult           False              False                 True   \n",
      "1  38.0       Adult           False              False                False   \n",
      "2  26.0  YoungAdult           False              False                 True   \n",
      "3  35.0  YoungAdult           False              False                 True   \n",
      "4  35.0  YoungAdult           False              False                 True   \n",
      "5   NaN         NaN           False              False                False   \n",
      "6  54.0       Adult           False              False                False   \n",
      "7   2.0       Child            True              False                False   \n",
      "8  27.0  YoungAdult           False              False                 True   \n",
      "9  14.0    Teenager           False               True                False   \n",
      "\n",
      "   AgeGroup_Adult  AgeGroup_Senior  \n",
      "0           False            False  \n",
      "1            True            False  \n",
      "2           False            False  \n",
      "3           False            False  \n",
      "4           False            False  \n",
      "5           False            False  \n",
      "6            True            False  \n",
      "7           False            False  \n",
      "8           False            False  \n",
      "9           False            False  \n"
     ]
    }
   ],
   "source": [
    "# Étape 2 : get_dummies() for One-Hot Encoding\n",
    "\n",
    "# One-hot encoding of the new categorical column  AgeGroup\n",
    "agegroup_dummies = pd.get_dummies(df['AgeGroup'], prefix='AgeGroup')\n",
    "\n",
    "# Encoding columns merging to core DataFrame\n",
    "df = pd.concat([df, agegroup_dummies], axis=1)\n",
    "\n",
    "# Result checking\n",
    "print(df[['Age', 'AgeGroup'] + list(agegroup_dummies.columns)].head(10))"
   ]
  }
 ],
 "metadata": {
  "kernelspec": {
   "display_name": "Python 3",
   "language": "python",
   "name": "python3"
  },
  "language_info": {
   "codemirror_mode": {
    "name": "ipython",
    "version": 3
   },
   "file_extension": ".py",
   "mimetype": "text/x-python",
   "name": "python",
   "nbconvert_exporter": "python",
   "pygments_lexer": "ipython3",
   "version": "3.9.6"
  }
 },
 "nbformat": 4,
 "nbformat_minor": 5
}
