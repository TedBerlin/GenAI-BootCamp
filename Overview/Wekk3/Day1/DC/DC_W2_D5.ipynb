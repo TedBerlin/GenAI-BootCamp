{
 "cells": [
  {
   "cell_type": "markdown",
   "id": "7637f506",
   "metadata": {},
   "source": [
    "Daily Challenge: Interactive Data Visualization with Matplotlib and Seaborn"
   ]
  },
  {
   "cell_type": "markdown",
   "id": "14c5a6d0",
   "metadata": {},
   "source": [
    "== 1. Data Ingestion and Initial Assessment == "
   ]
  },
  {
   "cell_type": "code",
   "execution_count": 3,
   "id": "2272b98f",
   "metadata": {},
   "outputs": [
    {
     "name": "stdout",
     "output_type": "stream",
     "text": [
      "Collecting pandas\n",
      "  Using cached pandas-2.3.0-cp313-cp313-macosx_11_0_arm64.whl.metadata (91 kB)\n",
      "Collecting numpy>=1.26.0 (from pandas)\n",
      "  Using cached numpy-2.3.0-cp313-cp313-macosx_14_0_arm64.whl.metadata (62 kB)\n",
      "Requirement already satisfied: python-dateutil>=2.8.2 in /Users/teddan/Desktop/GenAI/.venv/lib/python3.13/site-packages (from pandas) (2.9.0.post0)\n",
      "Collecting pytz>=2020.1 (from pandas)\n",
      "  Using cached pytz-2025.2-py2.py3-none-any.whl.metadata (22 kB)\n",
      "Collecting tzdata>=2022.7 (from pandas)\n",
      "  Using cached tzdata-2025.2-py2.py3-none-any.whl.metadata (1.4 kB)\n",
      "Requirement already satisfied: six>=1.5 in /Users/teddan/Desktop/GenAI/.venv/lib/python3.13/site-packages (from python-dateutil>=2.8.2->pandas) (1.17.0)\n",
      "Using cached pandas-2.3.0-cp313-cp313-macosx_11_0_arm64.whl (10.7 MB)\n",
      "Using cached numpy-2.3.0-cp313-cp313-macosx_14_0_arm64.whl (5.1 MB)\n",
      "Using cached pytz-2025.2-py2.py3-none-any.whl (509 kB)\n",
      "Using cached tzdata-2025.2-py2.py3-none-any.whl (347 kB)\n",
      "Installing collected packages: pytz, tzdata, numpy, pandas\n",
      "\u001b[2K   \u001b[90m━━━━━━━━━━━━━━━━━━━━━━━━━━━━━━━━━━━━━━━━\u001b[0m \u001b[32m4/4\u001b[0m [pandas]2m3/4\u001b[0m [pandas]\n",
      "\u001b[1A\u001b[2KSuccessfully installed numpy-2.3.0 pandas-2.3.0 pytz-2025.2 tzdata-2025.2\n",
      "Note: you may need to restart the kernel to use updated packages.\n"
     ]
    }
   ],
   "source": [
    "pip install pandas"
   ]
  },
  {
   "cell_type": "code",
   "execution_count": 4,
   "id": "cd8ead27",
   "metadata": {},
   "outputs": [
    {
     "data": {
      "text/html": [
       "<div>\n",
       "<style scoped>\n",
       "    .dataframe tbody tr th:only-of-type {\n",
       "        vertical-align: middle;\n",
       "    }\n",
       "\n",
       "    .dataframe tbody tr th {\n",
       "        vertical-align: top;\n",
       "    }\n",
       "\n",
       "    .dataframe thead th {\n",
       "        text-align: right;\n",
       "    }\n",
       "</style>\n",
       "<table border=\"1\" class=\"dataframe\">\n",
       "  <thead>\n",
       "    <tr style=\"text-align: right;\">\n",
       "      <th></th>\n",
       "      <th>Row ID</th>\n",
       "      <th>Order ID</th>\n",
       "      <th>Order Date</th>\n",
       "      <th>Ship Date</th>\n",
       "      <th>Ship Mode</th>\n",
       "      <th>Customer ID</th>\n",
       "      <th>Customer Name</th>\n",
       "      <th>Segment</th>\n",
       "      <th>Country</th>\n",
       "      <th>City</th>\n",
       "      <th>...</th>\n",
       "      <th>Postal Code</th>\n",
       "      <th>Region</th>\n",
       "      <th>Product ID</th>\n",
       "      <th>Category</th>\n",
       "      <th>Sub-Category</th>\n",
       "      <th>Product Name</th>\n",
       "      <th>Sales</th>\n",
       "      <th>Quantity</th>\n",
       "      <th>Discount</th>\n",
       "      <th>Profit</th>\n",
       "    </tr>\n",
       "  </thead>\n",
       "  <tbody>\n",
       "    <tr>\n",
       "      <th>0</th>\n",
       "      <td>1</td>\n",
       "      <td>CA-2016-152156</td>\n",
       "      <td>2016-11-08</td>\n",
       "      <td>2016-11-11</td>\n",
       "      <td>Second Class</td>\n",
       "      <td>CG-12520</td>\n",
       "      <td>Claire Gute</td>\n",
       "      <td>Consumer</td>\n",
       "      <td>United States</td>\n",
       "      <td>Henderson</td>\n",
       "      <td>...</td>\n",
       "      <td>42420</td>\n",
       "      <td>South</td>\n",
       "      <td>FUR-BO-10001798</td>\n",
       "      <td>Furniture</td>\n",
       "      <td>Bookcases</td>\n",
       "      <td>Bush Somerset Collection Bookcase</td>\n",
       "      <td>261.9600</td>\n",
       "      <td>2</td>\n",
       "      <td>0.00</td>\n",
       "      <td>41.9136</td>\n",
       "    </tr>\n",
       "    <tr>\n",
       "      <th>1</th>\n",
       "      <td>2</td>\n",
       "      <td>CA-2016-152156</td>\n",
       "      <td>2016-11-08</td>\n",
       "      <td>2016-11-11</td>\n",
       "      <td>Second Class</td>\n",
       "      <td>CG-12520</td>\n",
       "      <td>Claire Gute</td>\n",
       "      <td>Consumer</td>\n",
       "      <td>United States</td>\n",
       "      <td>Henderson</td>\n",
       "      <td>...</td>\n",
       "      <td>42420</td>\n",
       "      <td>South</td>\n",
       "      <td>FUR-CH-10000454</td>\n",
       "      <td>Furniture</td>\n",
       "      <td>Chairs</td>\n",
       "      <td>Hon Deluxe Fabric Upholstered Stacking Chairs,...</td>\n",
       "      <td>731.9400</td>\n",
       "      <td>3</td>\n",
       "      <td>0.00</td>\n",
       "      <td>219.5820</td>\n",
       "    </tr>\n",
       "    <tr>\n",
       "      <th>2</th>\n",
       "      <td>3</td>\n",
       "      <td>CA-2016-138688</td>\n",
       "      <td>2016-06-12</td>\n",
       "      <td>2016-06-16</td>\n",
       "      <td>Second Class</td>\n",
       "      <td>DV-13045</td>\n",
       "      <td>Darrin Van Huff</td>\n",
       "      <td>Corporate</td>\n",
       "      <td>United States</td>\n",
       "      <td>Los Angeles</td>\n",
       "      <td>...</td>\n",
       "      <td>90036</td>\n",
       "      <td>West</td>\n",
       "      <td>OFF-LA-10000240</td>\n",
       "      <td>Office Supplies</td>\n",
       "      <td>Labels</td>\n",
       "      <td>Self-Adhesive Address Labels for Typewriters b...</td>\n",
       "      <td>14.6200</td>\n",
       "      <td>2</td>\n",
       "      <td>0.00</td>\n",
       "      <td>6.8714</td>\n",
       "    </tr>\n",
       "    <tr>\n",
       "      <th>3</th>\n",
       "      <td>4</td>\n",
       "      <td>US-2015-108966</td>\n",
       "      <td>2015-10-11</td>\n",
       "      <td>2015-10-18</td>\n",
       "      <td>Standard Class</td>\n",
       "      <td>SO-20335</td>\n",
       "      <td>Sean O'Donnell</td>\n",
       "      <td>Consumer</td>\n",
       "      <td>United States</td>\n",
       "      <td>Fort Lauderdale</td>\n",
       "      <td>...</td>\n",
       "      <td>33311</td>\n",
       "      <td>South</td>\n",
       "      <td>FUR-TA-10000577</td>\n",
       "      <td>Furniture</td>\n",
       "      <td>Tables</td>\n",
       "      <td>Bretford CR4500 Series Slim Rectangular Table</td>\n",
       "      <td>957.5775</td>\n",
       "      <td>5</td>\n",
       "      <td>0.45</td>\n",
       "      <td>-383.0310</td>\n",
       "    </tr>\n",
       "    <tr>\n",
       "      <th>4</th>\n",
       "      <td>5</td>\n",
       "      <td>US-2015-108966</td>\n",
       "      <td>2015-10-11</td>\n",
       "      <td>2015-10-18</td>\n",
       "      <td>Standard Class</td>\n",
       "      <td>SO-20335</td>\n",
       "      <td>Sean O'Donnell</td>\n",
       "      <td>Consumer</td>\n",
       "      <td>United States</td>\n",
       "      <td>Fort Lauderdale</td>\n",
       "      <td>...</td>\n",
       "      <td>33311</td>\n",
       "      <td>South</td>\n",
       "      <td>OFF-ST-10000760</td>\n",
       "      <td>Office Supplies</td>\n",
       "      <td>Storage</td>\n",
       "      <td>Eldon Fold 'N Roll Cart System</td>\n",
       "      <td>22.3680</td>\n",
       "      <td>2</td>\n",
       "      <td>0.20</td>\n",
       "      <td>2.5164</td>\n",
       "    </tr>\n",
       "  </tbody>\n",
       "</table>\n",
       "<p>5 rows × 21 columns</p>\n",
       "</div>"
      ],
      "text/plain": [
       "   Row ID        Order ID Order Date  Ship Date       Ship Mode Customer ID  \\\n",
       "0       1  CA-2016-152156 2016-11-08 2016-11-11    Second Class    CG-12520   \n",
       "1       2  CA-2016-152156 2016-11-08 2016-11-11    Second Class    CG-12520   \n",
       "2       3  CA-2016-138688 2016-06-12 2016-06-16    Second Class    DV-13045   \n",
       "3       4  US-2015-108966 2015-10-11 2015-10-18  Standard Class    SO-20335   \n",
       "4       5  US-2015-108966 2015-10-11 2015-10-18  Standard Class    SO-20335   \n",
       "\n",
       "     Customer Name    Segment        Country             City  ...  \\\n",
       "0      Claire Gute   Consumer  United States        Henderson  ...   \n",
       "1      Claire Gute   Consumer  United States        Henderson  ...   \n",
       "2  Darrin Van Huff  Corporate  United States      Los Angeles  ...   \n",
       "3   Sean O'Donnell   Consumer  United States  Fort Lauderdale  ...   \n",
       "4   Sean O'Donnell   Consumer  United States  Fort Lauderdale  ...   \n",
       "\n",
       "  Postal Code  Region       Product ID         Category Sub-Category  \\\n",
       "0       42420   South  FUR-BO-10001798        Furniture    Bookcases   \n",
       "1       42420   South  FUR-CH-10000454        Furniture       Chairs   \n",
       "2       90036    West  OFF-LA-10000240  Office Supplies       Labels   \n",
       "3       33311   South  FUR-TA-10000577        Furniture       Tables   \n",
       "4       33311   South  OFF-ST-10000760  Office Supplies      Storage   \n",
       "\n",
       "                                        Product Name     Sales  Quantity  \\\n",
       "0                  Bush Somerset Collection Bookcase  261.9600         2   \n",
       "1  Hon Deluxe Fabric Upholstered Stacking Chairs,...  731.9400         3   \n",
       "2  Self-Adhesive Address Labels for Typewriters b...   14.6200         2   \n",
       "3      Bretford CR4500 Series Slim Rectangular Table  957.5775         5   \n",
       "4                     Eldon Fold 'N Roll Cart System   22.3680         2   \n",
       "\n",
       "   Discount    Profit  \n",
       "0      0.00   41.9136  \n",
       "1      0.00  219.5820  \n",
       "2      0.00    6.8714  \n",
       "3      0.45 -383.0310  \n",
       "4      0.20    2.5164  \n",
       "\n",
       "[5 rows x 21 columns]"
      ]
     },
     "execution_count": 4,
     "metadata": {},
     "output_type": "execute_result"
    }
   ],
   "source": [
    "# Import necessary libraries\n",
    "import pandas as pd\n",
    "\n",
    "# Load the dataset\n",
    "df = pd.read_excel(\"US Superstore data.xls\")\n",
    "\n",
    "# Display the first few rows\n",
    "df.head()"
   ]
  },
  {
   "cell_type": "code",
   "execution_count": 5,
   "id": "aa4c051b",
   "metadata": {},
   "outputs": [
    {
     "name": "stdout",
     "output_type": "stream",
     "text": [
      "\n",
      "ℹDataset information:\n",
      "<class 'pandas.core.frame.DataFrame'>\n",
      "RangeIndex: 9994 entries, 0 to 9993\n",
      "Data columns (total 21 columns):\n",
      " #   Column         Non-Null Count  Dtype         \n",
      "---  ------         --------------  -----         \n",
      " 0   Row ID         9994 non-null   int64         \n",
      " 1   Order ID       9994 non-null   object        \n",
      " 2   Order Date     9994 non-null   datetime64[ns]\n",
      " 3   Ship Date      9994 non-null   datetime64[ns]\n",
      " 4   Ship Mode      9994 non-null   object        \n",
      " 5   Customer ID    9994 non-null   object        \n",
      " 6   Customer Name  9994 non-null   object        \n",
      " 7   Segment        9994 non-null   object        \n",
      " 8   Country        9994 non-null   object        \n",
      " 9   City           9994 non-null   object        \n",
      " 10  State          9994 non-null   object        \n",
      " 11  Postal Code    9994 non-null   int64         \n",
      " 12  Region         9994 non-null   object        \n",
      " 13  Product ID     9994 non-null   object        \n",
      " 14  Category       9994 non-null   object        \n",
      " 15  Sub-Category   9994 non-null   object        \n",
      " 16  Product Name   9994 non-null   object        \n",
      " 17  Sales          9994 non-null   float64       \n",
      " 18  Quantity       9994 non-null   int64         \n",
      " 19  Discount       9994 non-null   float64       \n",
      " 20  Profit         9994 non-null   float64       \n",
      "dtypes: datetime64[ns](2), float64(3), int64(3), object(13)\n",
      "memory usage: 1.6+ MB\n",
      "None\n",
      "\n",
      "📈 Statistical Summary:\n",
      "             Row ID        Order ID                     Order Date  \\\n",
      "count   9994.000000            9994                           9994   \n",
      "unique          NaN            5009                            NaN   \n",
      "top             NaN  CA-2017-100111                            NaN   \n",
      "freq            NaN              14                            NaN   \n",
      "mean    4997.500000             NaN  2016-04-30 00:07:12.259355648   \n",
      "min        1.000000             NaN            2014-01-03 00:00:00   \n",
      "25%     2499.250000             NaN            2015-05-23 00:00:00   \n",
      "50%     4997.500000             NaN            2016-06-26 00:00:00   \n",
      "75%     7495.750000             NaN            2017-05-14 00:00:00   \n",
      "max     9994.000000             NaN            2017-12-30 00:00:00   \n",
      "std     2885.163629             NaN                            NaN   \n",
      "\n",
      "                            Ship Date       Ship Mode Customer ID  \\\n",
      "count                            9994            9994        9994   \n",
      "unique                            NaN               4         793   \n",
      "top                               NaN  Standard Class    WB-21850   \n",
      "freq                              NaN            5968          37   \n",
      "mean    2016-05-03 23:06:58.571142912             NaN         NaN   \n",
      "min               2014-01-07 00:00:00             NaN         NaN   \n",
      "25%               2015-05-27 00:00:00             NaN         NaN   \n",
      "50%               2016-06-29 00:00:00             NaN         NaN   \n",
      "75%               2017-05-18 00:00:00             NaN         NaN   \n",
      "max               2018-01-05 00:00:00             NaN         NaN   \n",
      "std                               NaN             NaN         NaN   \n",
      "\n",
      "        Customer Name   Segment        Country           City  ...  \\\n",
      "count            9994      9994           9994           9994  ...   \n",
      "unique            793         3              1            531  ...   \n",
      "top     William Brown  Consumer  United States  New York City  ...   \n",
      "freq               37      5191           9994            915  ...   \n",
      "mean              NaN       NaN            NaN            NaN  ...   \n",
      "min               NaN       NaN            NaN            NaN  ...   \n",
      "25%               NaN       NaN            NaN            NaN  ...   \n",
      "50%               NaN       NaN            NaN            NaN  ...   \n",
      "75%               NaN       NaN            NaN            NaN  ...   \n",
      "max               NaN       NaN            NaN            NaN  ...   \n",
      "std               NaN       NaN            NaN            NaN  ...   \n",
      "\n",
      "         Postal Code  Region       Product ID         Category Sub-Category  \\\n",
      "count    9994.000000    9994             9994             9994         9994   \n",
      "unique           NaN       4             1862                3           17   \n",
      "top              NaN    West  OFF-PA-10001970  Office Supplies      Binders   \n",
      "freq             NaN    3203               19             6026         1523   \n",
      "mean    55190.379428     NaN              NaN              NaN          NaN   \n",
      "min      1040.000000     NaN              NaN              NaN          NaN   \n",
      "25%     23223.000000     NaN              NaN              NaN          NaN   \n",
      "50%     56430.500000     NaN              NaN              NaN          NaN   \n",
      "75%     90008.000000     NaN              NaN              NaN          NaN   \n",
      "max     99301.000000     NaN              NaN              NaN          NaN   \n",
      "std     32063.693350     NaN              NaN              NaN          NaN   \n",
      "\n",
      "           Product Name         Sales     Quantity     Discount       Profit  \n",
      "count              9994   9994.000000  9994.000000  9994.000000  9994.000000  \n",
      "unique             1850           NaN          NaN          NaN          NaN  \n",
      "top     Staple envelope           NaN          NaN          NaN          NaN  \n",
      "freq                 48           NaN          NaN          NaN          NaN  \n",
      "mean                NaN    229.858001     3.789574     0.156203    28.656896  \n",
      "min                 NaN      0.444000     1.000000     0.000000 -6599.978000  \n",
      "25%                 NaN     17.280000     2.000000     0.000000     1.728750  \n",
      "50%                 NaN     54.490000     3.000000     0.200000     8.666500  \n",
      "75%                 NaN    209.940000     5.000000     0.200000    29.364000  \n",
      "max                 NaN  22638.480000    14.000000     0.800000  8399.976000  \n",
      "std                 NaN    623.245101     2.225110     0.206452   234.260108  \n",
      "\n",
      "[11 rows x 21 columns]\n",
      "\n",
      "Available columns list:\n",
      "Index(['Row ID', 'Order ID', 'Order Date', 'Ship Date', 'Ship Mode',\n",
      "       'Customer ID', 'Customer Name', 'Segment', 'Country', 'City', 'State',\n",
      "       'Postal Code', 'Region', 'Product ID', 'Category', 'Sub-Category',\n",
      "       'Product Name', 'Sales', 'Quantity', 'Discount', 'Profit'],\n",
      "      dtype='object')\n",
      "\n",
      "🔍 Missing Values Per Column:\n",
      "Row ID           0\n",
      "Order ID         0\n",
      "Order Date       0\n",
      "Ship Date        0\n",
      "Ship Mode        0\n",
      "Customer ID      0\n",
      "Customer Name    0\n",
      "Segment          0\n",
      "Country          0\n",
      "City             0\n",
      "State            0\n",
      "Postal Code      0\n",
      "Region           0\n",
      "Product ID       0\n",
      "Category         0\n",
      "Sub-Category     0\n",
      "Product Name     0\n",
      "Sales            0\n",
      "Quantity         0\n",
      "Discount         0\n",
      "Profit           0\n",
      "dtype: int64\n"
     ]
    }
   ],
   "source": [
    "# Overview of dataset structure\n",
    "\n",
    "print(\"\\nℹDataset information:\")\n",
    "print(df.info())\n",
    "\n",
    "print(\"\\n📈 Statistical Summary:\")\n",
    "print(df.describe(include='all'))\n",
    "\n",
    "print(\"\\nAvailable columns list:\")\n",
    "print(df.columns)\n",
    "\n",
    "print(\"\\n🔍 Missing Values Per Column:\")\n",
    "print(df.isnull().sum())"
   ]
  },
  {
   "cell_type": "code",
   "execution_count": 6,
   "id": "dd2a2efc",
   "metadata": {},
   "outputs": [
    {
     "name": "stdout",
     "output_type": "stream",
     "text": [
      "Order Date type: datetime64[ns]\n",
      "Ship Date type: datetime64[ns]\n"
     ]
    }
   ],
   "source": [
    "# 1. What is the data type of the date columns?\n",
    "\n",
    "print(\"Order Date type:\", df['Order Date'].dtype)\n",
    "print(\"Ship Date type:\", df['Ship Date'].dtype)"
   ]
  },
  {
   "cell_type": "code",
   "execution_count": 7,
   "id": "aeb974ac",
   "metadata": {},
   "outputs": [
    {
     "name": "stdout",
     "output_type": "stream",
     "text": [
      "Date Range:\n",
      "Order Date: 2014-01-03 00:00:00 to 2017-12-30 00:00:00\n"
     ]
    }
   ],
   "source": [
    "# 2. What is the time frame of the dataset?\n",
    "\n",
    "print(\"Date Range:\")\n",
    "print(\"Order Date:\", df['Order Date'].min(), \"to\", df['Order Date'].max())"
   ]
  },
  {
   "cell_type": "code",
   "execution_count": null,
   "id": "2f236107",
   "metadata": {},
   "outputs": [
    {
     "data": {
      "text/plain": [
       "Row ID           0.0\n",
       "Postal Code      0.0\n",
       "Discount         0.0\n",
       "Quantity         0.0\n",
       "Sales            0.0\n",
       "Product Name     0.0\n",
       "Sub-Category     0.0\n",
       "Category         0.0\n",
       "Product ID       0.0\n",
       "Region           0.0\n",
       "State            0.0\n",
       "Order ID         0.0\n",
       "City             0.0\n",
       "Country          0.0\n",
       "Segment          0.0\n",
       "Customer Name    0.0\n",
       "Customer ID      0.0\n",
       "Ship Mode        0.0\n",
       "Ship Date        0.0\n",
       "Order Date       0.0\n",
       "Profit           0.0\n",
       "dtype: float64"
      ]
     },
     "execution_count": 10,
     "metadata": {},
     "output_type": "execute_result"
    }
   ],
   "source": [
    "# 3. Any significant data gaps?\n",
    "\n",
    "# We inspect missing values with isnull().sum() above.\n",
    "\n",
    "df.isnull().mean().sort_values(ascending=False) # Visual exploration"
   ]
  },
  {
   "cell_type": "markdown",
   "id": "087d4da7",
   "metadata": {},
   "source": [
    "Eventuelles conclusions ?"
   ]
  },
  {
   "cell_type": "code",
   "execution_count": 8,
   "id": "a6b516f9",
   "metadata": {},
   "outputs": [
    {
     "name": "stdout",
     "output_type": "stream",
     "text": [
      "Series([], dtype: int64)\n"
     ]
    }
   ],
   "source": [
    "# 2. Data Cleaning and Preprocessing\n",
    "\n",
    "# Handling Missing Values\n",
    "\n",
    "# Check columns with missing data again\n",
    "missing = df.isnull().sum()\n",
    "print(missing[missing > 0])"
   ]
  },
  {
   "cell_type": "code",
   "execution_count": 9,
   "id": "a658106d",
   "metadata": {},
   "outputs": [
    {
     "name": "stdout",
     "output_type": "stream",
     "text": [
      "🔁 Duplicate rows: 0\n"
     ]
    }
   ],
   "source": [
    "# Removing Duplicates\n",
    "\n",
    "duplicates = df.duplicated().sum()\n",
    "print(\"🔁 Duplicate rows:\", duplicates)\n",
    "\n",
    "# Remove duplicates\n",
    "df.drop_duplicates(inplace=True)"
   ]
  },
  {
   "cell_type": "code",
   "execution_count": 10,
   "id": "e531290b",
   "metadata": {},
   "outputs": [],
   "source": [
    "# Date Conversion\n",
    "\n",
    "# Convert dates to datetime\n",
    "df['Order Date'] = pd.to_datetime(df['Order Date'])\n",
    "df['Ship Date'] = pd.to_datetime(df['Ship Date'])"
   ]
  },
  {
   "cell_type": "code",
   "execution_count": 11,
   "id": "03014f71",
   "metadata": {},
   "outputs": [],
   "source": [
    "# 3. Feature Engineering\n",
    "\n",
    "# Avoid division by zero\n",
    "df['Profit Margin (%)'] = df.apply(lambda row: (row['Profit'] / row['Sales'] * 100) if row['Sales'] != 0 else 0, axis=1)"
   ]
  },
  {
   "cell_type": "code",
   "execution_count": 12,
   "id": "22f6dc93",
   "metadata": {},
   "outputs": [],
   "source": [
    "# Order Year and Month\n",
    "\n",
    "df['Order Year'] = df['Order Date'].dt.year\n",
    "df['Order Month'] = df['Order Date'].dt.month_name()"
   ]
  },
  {
   "cell_type": "markdown",
   "id": "92333faa",
   "metadata": {},
   "source": [
    "# PHASE 2: EXPLORATORY ANALYSIS WITH MATPLOTLIB"
   ]
  },
  {
   "cell_type": "code",
   "execution_count": 5,
   "id": "a31db1e7",
   "metadata": {},
   "outputs": [
    {
     "name": "stdout",
     "output_type": "stream",
     "text": [
      "Defaulting to user installation because normal site-packages is not writeable\n",
      "Collecting ipywidgets\n",
      "  Downloading ipywidgets-8.1.7-py3-none-any.whl (139 kB)\n",
      "\u001b[K     |████████████████████████████████| 139 kB 2.9 MB/s eta 0:00:01\n",
      "\u001b[?25hCollecting jupyterlab_widgets~=3.0.15\n",
      "  Downloading jupyterlab_widgets-3.0.15-py3-none-any.whl (216 kB)\n",
      "\u001b[K     |████████████████████████████████| 216 kB 3.2 MB/s eta 0:00:01\n",
      "\u001b[?25hRequirement already satisfied: traitlets>=4.3.1 in /Users/teddan/Library/Python/3.9/lib/python/site-packages (from ipywidgets) (5.14.3)\n",
      "Collecting widgetsnbextension~=4.0.14\n",
      "  Downloading widgetsnbextension-4.0.14-py3-none-any.whl (2.2 MB)\n",
      "\u001b[K     |████████████████████████████████| 2.2 MB 3.2 MB/s eta 0:00:01\n",
      "\u001b[?25hRequirement already satisfied: ipython>=6.1.0 in /Users/teddan/Library/Python/3.9/lib/python/site-packages (from ipywidgets) (8.18.1)\n",
      "Requirement already satisfied: comm>=0.1.3 in /Users/teddan/Library/Python/3.9/lib/python/site-packages (from ipywidgets) (0.2.2)\n",
      "Requirement already satisfied: pexpect>4.3 in /Users/teddan/Library/Python/3.9/lib/python/site-packages (from ipython>=6.1.0->ipywidgets) (4.9.0)\n",
      "Requirement already satisfied: exceptiongroup in /Users/teddan/Library/Python/3.9/lib/python/site-packages (from ipython>=6.1.0->ipywidgets) (1.3.0)\n",
      "Requirement already satisfied: pygments>=2.4.0 in /Users/teddan/Library/Python/3.9/lib/python/site-packages (from ipython>=6.1.0->ipywidgets) (2.19.1)\n",
      "Requirement already satisfied: prompt-toolkit<3.1.0,>=3.0.41 in /Users/teddan/Library/Python/3.9/lib/python/site-packages (from ipython>=6.1.0->ipywidgets) (3.0.51)\n",
      "Requirement already satisfied: decorator in /Users/teddan/Library/Python/3.9/lib/python/site-packages (from ipython>=6.1.0->ipywidgets) (5.2.1)\n",
      "Requirement already satisfied: matplotlib-inline in /Users/teddan/Library/Python/3.9/lib/python/site-packages (from ipython>=6.1.0->ipywidgets) (0.1.7)\n",
      "Requirement already satisfied: typing-extensions in /Users/teddan/Library/Python/3.9/lib/python/site-packages (from ipython>=6.1.0->ipywidgets) (4.14.0)\n",
      "Requirement already satisfied: jedi>=0.16 in /Users/teddan/Library/Python/3.9/lib/python/site-packages (from ipython>=6.1.0->ipywidgets) (0.19.2)\n",
      "Requirement already satisfied: stack-data in /Users/teddan/Library/Python/3.9/lib/python/site-packages (from ipython>=6.1.0->ipywidgets) (0.6.3)\n",
      "Requirement already satisfied: parso<0.9.0,>=0.8.4 in /Users/teddan/Library/Python/3.9/lib/python/site-packages (from jedi>=0.16->ipython>=6.1.0->ipywidgets) (0.8.4)\n",
      "Requirement already satisfied: ptyprocess>=0.5 in /Users/teddan/Library/Python/3.9/lib/python/site-packages (from pexpect>4.3->ipython>=6.1.0->ipywidgets) (0.7.0)\n",
      "Requirement already satisfied: wcwidth in /Users/teddan/Library/Python/3.9/lib/python/site-packages (from prompt-toolkit<3.1.0,>=3.0.41->ipython>=6.1.0->ipywidgets) (0.2.13)\n",
      "Requirement already satisfied: executing>=1.2.0 in /Users/teddan/Library/Python/3.9/lib/python/site-packages (from stack-data->ipython>=6.1.0->ipywidgets) (2.2.0)\n",
      "Requirement already satisfied: pure-eval in /Users/teddan/Library/Python/3.9/lib/python/site-packages (from stack-data->ipython>=6.1.0->ipywidgets) (0.2.3)\n",
      "Requirement already satisfied: asttokens>=2.1.0 in /Users/teddan/Library/Python/3.9/lib/python/site-packages (from stack-data->ipython>=6.1.0->ipywidgets) (3.0.0)\n",
      "Installing collected packages: widgetsnbextension, jupyterlab-widgets, ipywidgets\n",
      "Successfully installed ipywidgets-8.1.7 jupyterlab-widgets-3.0.15 widgetsnbextension-4.0.14\n",
      "\u001b[33mWARNING: You are using pip version 21.2.4; however, version 25.1.1 is available.\n",
      "You should consider upgrading via the '/Library/Developer/CommandLineTools/usr/bin/python3 -m pip install --upgrade pip' command.\u001b[0m\n",
      "Note: you may need to restart the kernel to use updated packages.\n"
     ]
    }
   ],
   "source": [
    "pip install ipywidgets"
   ]
  },
  {
   "cell_type": "code",
   "execution_count": 15,
   "id": "5695dc32",
   "metadata": {},
   "outputs": [
    {
     "name": "stdout",
     "output_type": "stream",
     "text": [
      "Collecting matplotlib\n",
      "  Downloading matplotlib-3.10.3-cp313-cp313-macosx_11_0_arm64.whl.metadata (11 kB)\n",
      "Collecting contourpy>=1.0.1 (from matplotlib)\n",
      "  Downloading contourpy-1.3.2-cp313-cp313-macosx_11_0_arm64.whl.metadata (5.5 kB)\n",
      "Collecting cycler>=0.10 (from matplotlib)\n",
      "  Downloading cycler-0.12.1-py3-none-any.whl.metadata (3.8 kB)\n",
      "Collecting fonttools>=4.22.0 (from matplotlib)\n",
      "  Downloading fonttools-4.58.4-cp313-cp313-macosx_10_13_universal2.whl.metadata (106 kB)\n",
      "Collecting kiwisolver>=1.3.1 (from matplotlib)\n",
      "  Downloading kiwisolver-1.4.8-cp313-cp313-macosx_11_0_arm64.whl.metadata (6.2 kB)\n",
      "Requirement already satisfied: numpy>=1.23 in /Users/teddan/Desktop/GenAI/.venv/lib/python3.13/site-packages (from matplotlib) (2.3.0)\n",
      "Requirement already satisfied: packaging>=20.0 in /Users/teddan/Desktop/GenAI/.venv/lib/python3.13/site-packages (from matplotlib) (25.0)\n",
      "Collecting pillow>=8 (from matplotlib)\n",
      "  Downloading pillow-11.2.1-cp313-cp313-macosx_11_0_arm64.whl.metadata (8.9 kB)\n",
      "Collecting pyparsing>=2.3.1 (from matplotlib)\n",
      "  Downloading pyparsing-3.2.3-py3-none-any.whl.metadata (5.0 kB)\n",
      "Requirement already satisfied: python-dateutil>=2.7 in /Users/teddan/Desktop/GenAI/.venv/lib/python3.13/site-packages (from matplotlib) (2.9.0.post0)\n",
      "Requirement already satisfied: six>=1.5 in /Users/teddan/Desktop/GenAI/.venv/lib/python3.13/site-packages (from python-dateutil>=2.7->matplotlib) (1.17.0)\n",
      "Downloading matplotlib-3.10.3-cp313-cp313-macosx_11_0_arm64.whl (8.1 MB)\n",
      "\u001b[2K   \u001b[90m━━━━━━━━━━━━━━━━━━━━━━━━━━━━━━━━━━━━━━━━\u001b[0m \u001b[32m8.1/8.1 MB\u001b[0m \u001b[31m14.3 MB/s\u001b[0m eta \u001b[36m0:00:00\u001b[0ma \u001b[36m0:00:01\u001b[0m\n",
      "\u001b[?25hDownloading contourpy-1.3.2-cp313-cp313-macosx_11_0_arm64.whl (255 kB)\n",
      "Downloading cycler-0.12.1-py3-none-any.whl (8.3 kB)\n",
      "Downloading fonttools-4.58.4-cp313-cp313-macosx_10_13_universal2.whl (2.7 MB)\n",
      "\u001b[2K   \u001b[90m━━━━━━━━━━━━━━━━━━━━━━━━━━━━━━━━━━━━━━━━\u001b[0m \u001b[32m2.7/2.7 MB\u001b[0m \u001b[31m14.2 MB/s\u001b[0m eta \u001b[36m0:00:00\u001b[0m\n",
      "\u001b[?25hDownloading kiwisolver-1.4.8-cp313-cp313-macosx_11_0_arm64.whl (65 kB)\n",
      "Downloading pillow-11.2.1-cp313-cp313-macosx_11_0_arm64.whl (3.0 MB)\n",
      "\u001b[2K   \u001b[90m━━━━━━━━━━━━━━━━━━━━━━━━━━━━━━━━━━━━━━━━\u001b[0m \u001b[32m3.0/3.0 MB\u001b[0m \u001b[31m14.8 MB/s\u001b[0m eta \u001b[36m0:00:00\u001b[0ma \u001b[36m0:00:01\u001b[0m\n",
      "\u001b[?25hDownloading pyparsing-3.2.3-py3-none-any.whl (111 kB)\n",
      "Installing collected packages: pyparsing, pillow, kiwisolver, fonttools, cycler, contourpy, matplotlib\n",
      "\u001b[2K   \u001b[90m━━━━━━━━━━━━━━━━━━━━━━━━━━━━━━━━━━━━━━━━\u001b[0m \u001b[32m7/7\u001b[0m [matplotlib]7\u001b[0m [matplotlib]\n",
      "\u001b[1A\u001b[2KSuccessfully installed contourpy-1.3.2 cycler-0.12.1 fonttools-4.58.4 kiwisolver-1.4.8 matplotlib-3.10.3 pillow-11.2.1 pyparsing-3.2.3\n",
      "Note: you may need to restart the kernel to use updated packages.\n"
     ]
    }
   ],
   "source": [
    "pip install matplotlib"
   ]
  },
  {
   "cell_type": "code",
   "execution_count": 16,
   "id": "961c497f",
   "metadata": {},
   "outputs": [
    {
     "name": "stdout",
     "output_type": "stream",
     "text": [
      "Collecting seaborn\n",
      "  Downloading seaborn-0.13.2-py3-none-any.whl.metadata (5.4 kB)\n",
      "Requirement already satisfied: numpy!=1.24.0,>=1.20 in /Users/teddan/Desktop/GenAI/.venv/lib/python3.13/site-packages (from seaborn) (2.3.0)\n",
      "Requirement already satisfied: pandas>=1.2 in /Users/teddan/Desktop/GenAI/.venv/lib/python3.13/site-packages (from seaborn) (2.3.0)\n",
      "Requirement already satisfied: matplotlib!=3.6.1,>=3.4 in /Users/teddan/Desktop/GenAI/.venv/lib/python3.13/site-packages (from seaborn) (3.10.3)\n",
      "Requirement already satisfied: contourpy>=1.0.1 in /Users/teddan/Desktop/GenAI/.venv/lib/python3.13/site-packages (from matplotlib!=3.6.1,>=3.4->seaborn) (1.3.2)\n",
      "Requirement already satisfied: cycler>=0.10 in /Users/teddan/Desktop/GenAI/.venv/lib/python3.13/site-packages (from matplotlib!=3.6.1,>=3.4->seaborn) (0.12.1)\n",
      "Requirement already satisfied: fonttools>=4.22.0 in /Users/teddan/Desktop/GenAI/.venv/lib/python3.13/site-packages (from matplotlib!=3.6.1,>=3.4->seaborn) (4.58.4)\n",
      "Requirement already satisfied: kiwisolver>=1.3.1 in /Users/teddan/Desktop/GenAI/.venv/lib/python3.13/site-packages (from matplotlib!=3.6.1,>=3.4->seaborn) (1.4.8)\n",
      "Requirement already satisfied: packaging>=20.0 in /Users/teddan/Desktop/GenAI/.venv/lib/python3.13/site-packages (from matplotlib!=3.6.1,>=3.4->seaborn) (25.0)\n",
      "Requirement already satisfied: pillow>=8 in /Users/teddan/Desktop/GenAI/.venv/lib/python3.13/site-packages (from matplotlib!=3.6.1,>=3.4->seaborn) (11.2.1)\n",
      "Requirement already satisfied: pyparsing>=2.3.1 in /Users/teddan/Desktop/GenAI/.venv/lib/python3.13/site-packages (from matplotlib!=3.6.1,>=3.4->seaborn) (3.2.3)\n",
      "Requirement already satisfied: python-dateutil>=2.7 in /Users/teddan/Desktop/GenAI/.venv/lib/python3.13/site-packages (from matplotlib!=3.6.1,>=3.4->seaborn) (2.9.0.post0)\n",
      "Requirement already satisfied: pytz>=2020.1 in /Users/teddan/Desktop/GenAI/.venv/lib/python3.13/site-packages (from pandas>=1.2->seaborn) (2025.2)\n",
      "Requirement already satisfied: tzdata>=2022.7 in /Users/teddan/Desktop/GenAI/.venv/lib/python3.13/site-packages (from pandas>=1.2->seaborn) (2025.2)\n",
      "Requirement already satisfied: six>=1.5 in /Users/teddan/Desktop/GenAI/.venv/lib/python3.13/site-packages (from python-dateutil>=2.7->matplotlib!=3.6.1,>=3.4->seaborn) (1.17.0)\n",
      "Downloading seaborn-0.13.2-py3-none-any.whl (294 kB)\n",
      "Installing collected packages: seaborn\n",
      "Successfully installed seaborn-0.13.2\n",
      "Note: you may need to restart the kernel to use updated packages.\n"
     ]
    }
   ],
   "source": [
    " pip install seaborn "
   ]
  },
  {
   "cell_type": "code",
   "execution_count": 21,
   "id": "bd21f16b",
   "metadata": {},
   "outputs": [],
   "source": [
    "import pandas as pd\n",
    "import matplotlib.pyplot as plt\n",
    "import seaborn as sns\n",
    "\n",
    "from ipywidgets import interact, widgets\n",
    "\n",
    "df = pd.read_excel(\"US Superstore data.xls\")"
   ]
  },
  {
   "cell_type": "code",
   "execution_count": 22,
   "id": "82af6830",
   "metadata": {},
   "outputs": [],
   "source": [
    "# Nettoyage si besoin\n",
    "\n",
    "df.drop_duplicates(inplace=True)\n",
    "df['Order Date'] = pd.to_datetime(df['Order Date'])\n",
    "df['Order Year'] = df['Order Date'].dt.year\n",
    "df['Order Month'] = df['Order Date'].dt.to_period('M').astype(str)\n",
    "df['Profit Margin'] = (df['Profit'] / df['Sales']) * 100"
   ]
  },
  {
   "cell_type": "markdown",
   "id": "7625d442",
   "metadata": {},
   "source": [
    "A FAIRE !!!\n",
    "\n",
    "✅ Phase 1 Summary\n",
    "✅ Dataset loaded and assessed\n",
    "\n",
    "✅ Missing values handled with justification\n",
    "\n",
    "✅ Duplicates removed\n",
    "\n",
    "✅ Date columns converted for time-series analysis\n",
    "\n",
    "✅ New features added for business-relevant analysis (Profit Margin, Year, Month)"
   ]
  },
  {
   "cell_type": "code",
   "execution_count": 25,
   "id": "4969b771",
   "metadata": {},
   "outputs": [
    {
     "data": {
      "application/vnd.jupyter.widget-view+json": {
       "model_id": "ed72a986f8ee4815884014caaf9cc161",
       "version_major": 2,
       "version_minor": 0
      },
      "text/plain": [
       "interactive(children=(Dropdown(description='Category:', options=('Furniture', 'Office Supplies', 'Technology')…"
      ]
     },
     "metadata": {},
     "output_type": "display_data"
    }
   ],
   "source": [
    "# PHASE 2.1: Time-Series Sales Trend\n",
    "sales_by_month = df.groupby(['Order Date', 'Category'])['Sales'].sum().reset_index()\n",
    "\n",
    "@interact(category=widgets.Dropdown(options=df['Category'].unique(), description=\"Category:\"))\n",
    "def plot_sales_trend(category):\n",
    "    data = sales_by_month[sales_by_month['Category'] == category]\n",
    "    plt.figure(figsize=(14, 5))\n",
    "    plt.plot(data['Order Date'], data['Sales'], marker='o')\n",
    "    plt.title(f\"Monthly Sales Trend for {category}\")\n",
    "    plt.xlabel(\"Month\")\n",
    "    plt.ylabel(\"Total Sales\")\n",
    "    plt.xticks(rotation=45)\n",
    "    plt.grid(True)\n",
    "    plt.tight_layout()\n",
    "    plt.show()\n",
    "\n"
   ]
  },
  {
   "cell_type": "markdown",
   "id": "3c3bd755",
   "metadata": {},
   "source": [
    "CCL : 2.1 A FAIRE !!!!\n",
    "\n",
    "Un graphique interactif avec ipywidgets permet de filtrer les ventes par catégorie de produit.\n",
    "\n",
    "On observe les variations mensuelles pour détecter des tendances, des pics saisonniers, ou des baisses."
   ]
  },
  {
   "cell_type": "code",
   "execution_count": null,
   "id": "04a03a38",
   "metadata": {},
   "outputs": [
    {
     "data": {
      "application/vnd.jupyter.widget-view+json": {
       "model_id": "cb8fab253f304156a36ae86158c1846c",
       "version_major": 2,
       "version_minor": 0
      },
      "text/plain": [
       "interactive(children=(IntSlider(value=10, description='Top N States:', max=20, min=3), Output()), _dom_classes…"
      ]
     },
     "metadata": {},
     "output_type": "display_data"
    },
    {
     "data": {
      "text/plain": [
       "<function __main__.plot_top_states(n)>"
      ]
     },
     "execution_count": 27,
     "metadata": {},
     "output_type": "execute_result"
    }
   ],
   "source": [
    "# PHASE 2.2: Geographic Sales Performance\n",
    "\n",
    "import pandas as pd\n",
    "import matplotlib.pyplot as plt\n",
    "import seaborn as sns\n",
    "import ipywidgets as widgets\n",
    "from IPython.display import display\n",
    "\n",
    "# Agréger les ventes par État\n",
    "sales_by_state = df.groupby('State')['Sales'].sum().sort_values(ascending=False).reset_index()\n",
    "\n",
    "# Fonction d'affichage du graphique avec un Top N dynamique\n",
    "def plot_top_states(n):\n",
    "    top_states = sales_by_state.head(n)\n",
    "    \n",
    "    plt.figure(figsize=(10, 6))\n",
    "    sns.barplot(data=top_states, x='Sales', y='State', hue='State', palette='viridis', legend=False)\n",
    "    plt.title(f'Top {n} States by Total Sales')\n",
    "    plt.xlabel('Total Sales ($)')\n",
    "    plt.ylabel('State')\n",
    "    plt.tight_layout()\n",
    "    plt.show()\n",
    "\n",
    "# Slider interactif pour le top N\n",
    "slider = widgets.IntSlider(value=10, min=3, max=20, step=1, description='Top N States:')\n",
    "widgets.interact(plot_top_states, n=slider)\n"
   ]
  },
  {
   "cell_type": "markdown",
   "id": "dd933cce",
   "metadata": {},
   "source": [
    "CCL : 2.2 A FAIRE !!!!\n",
    "\n",
    "Bar chart interactif : affiche les Top N états en termes de chiffre d'affaires avec un slider.\n",
    "\n",
    "Cela aide à identifier les zones à fort potentiel ou sous-performantes."
   ]
  },
  {
   "cell_type": "markdown",
   "id": "48f6b5d1",
   "metadata": {},
   "source": [
    "Phase 3 : Communicating Findings with Seaborn\n"
   ]
  },
  {
   "cell_type": "code",
   "execution_count": 29,
   "id": "0aaf8774",
   "metadata": {},
   "outputs": [],
   "source": [
    "#### 1. **Basic Plotting in Python** (using matplotlib):\n"
   ]
  },
  {
   "cell_type": "code",
   "execution_count": 30,
   "id": "e54449a2",
   "metadata": {},
   "outputs": [
    {
     "name": "stderr",
     "output_type": "stream",
     "text": [
      "/var/folders/r6/h24sb_sj1c579ck062z_39dm0000gn/T/ipykernel_23825/2056801166.py:6: FutureWarning: \n",
      "\n",
      "Passing `palette` without assigning `hue` is deprecated and will be removed in v0.14.0. Assign the `y` variable to `hue` and set `legend=False` for the same effect.\n",
      "\n",
      "  ax = sns.barplot(x=top_products.values, y=top_products.index, palette=\"viridis\")\n",
      "/var/folders/r6/h24sb_sj1c579ck062z_39dm0000gn/T/ipykernel_23825/2056801166.py:15: UserWarning: Glyph 128285 (\\N{TOP WITH UPWARDS ARROW ABOVE}) missing from font(s) DejaVu Sans.\n",
      "  plt.tight_layout()\n",
      "/Users/teddan/Desktop/GenAI/.venv/lib/python3.13/site-packages/IPython/core/pylabtools.py:170: UserWarning: Glyph 128285 (\\N{TOP WITH UPWARDS ARROW ABOVE}) missing from font(s) DejaVu Sans.\n",
      "  fig.canvas.print_figure(bytes_io, **kw)\n"
     ]
    },
    {
     "data": {
      "image/png": "[encoded data removed]",
      "text/plain": [
       "<Figure size 1000x600 with 1 Axes>"
      ]
     },
     "metadata": {},
     "output_type": "display_data"
    }
   ],
   "source": [
    "# Regrouper par nom de produit et totaliser le profit\n",
    "top_products = df.groupby('Product Name')['Profit'].sum().sort_values(ascending=False).head(10)\n",
    "\n",
    "# Tracer un barplot horizontal\n",
    "plt.figure(figsize=(10, 6))\n",
    "ax = sns.barplot(x=top_products.values, y=top_products.index, palette=\"viridis\")\n",
    "\n",
    "# Ajouter les annotations sur les barres\n",
    "for i, value in enumerate(top_products.values):\n",
    "    ax.text(value + 10, i, f\"${value:.0f}\", va='center')\n",
    "\n",
    "plt.title(\"🔝 Top 10 Most Profitable Products\", fontsize=14)\n",
    "plt.xlabel(\"Total Profit\")\n",
    "plt.ylabel(\"Product Name\")\n",
    "plt.tight_layout()\n",
    "plt.show()"
   ]
  },
  {
   "cell_type": "code",
   "execution_count": 32,
   "id": "f66cc566",
   "metadata": {},
   "outputs": [
    {
     "name": "stdout",
     "output_type": "stream",
     "text": [
      "Requirement already satisfied: seaborn in /Users/teddan/Desktop/GenAI/.venv/lib/python3.13/site-packages (0.13.2)\n",
      "Requirement already satisfied: numpy!=1.24.0,>=1.20 in /Users/teddan/Desktop/GenAI/.venv/lib/python3.13/site-packages (from seaborn) (2.3.0)\n",
      "Requirement already satisfied: pandas>=1.2 in /Users/teddan/Desktop/GenAI/.venv/lib/python3.13/site-packages (from seaborn) (2.3.0)\n",
      "Requirement already satisfied: matplotlib!=3.6.1,>=3.4 in /Users/teddan/Desktop/GenAI/.venv/lib/python3.13/site-packages (from seaborn) (3.10.3)\n",
      "Requirement already satisfied: contourpy>=1.0.1 in /Users/teddan/Desktop/GenAI/.venv/lib/python3.13/site-packages (from matplotlib!=3.6.1,>=3.4->seaborn) (1.3.2)\n",
      "Requirement already satisfied: cycler>=0.10 in /Users/teddan/Desktop/GenAI/.venv/lib/python3.13/site-packages (from matplotlib!=3.6.1,>=3.4->seaborn) (0.12.1)\n",
      "Requirement already satisfied: fonttools>=4.22.0 in /Users/teddan/Desktop/GenAI/.venv/lib/python3.13/site-packages (from matplotlib!=3.6.1,>=3.4->seaborn) (4.58.4)\n",
      "Requirement already satisfied: kiwisolver>=1.3.1 in /Users/teddan/Desktop/GenAI/.venv/lib/python3.13/site-packages (from matplotlib!=3.6.1,>=3.4->seaborn) (1.4.8)\n",
      "Requirement already satisfied: packaging>=20.0 in /Users/teddan/Desktop/GenAI/.venv/lib/python3.13/site-packages (from matplotlib!=3.6.1,>=3.4->seaborn) (25.0)\n",
      "Requirement already satisfied: pillow>=8 in /Users/teddan/Desktop/GenAI/.venv/lib/python3.13/site-packages (from matplotlib!=3.6.1,>=3.4->seaborn) (11.2.1)\n",
      "Requirement already satisfied: pyparsing>=2.3.1 in /Users/teddan/Desktop/GenAI/.venv/lib/python3.13/site-packages (from matplotlib!=3.6.1,>=3.4->seaborn) (3.2.3)\n",
      "Requirement already satisfied: python-dateutil>=2.7 in /Users/teddan/Desktop/GenAI/.venv/lib/python3.13/site-packages (from matplotlib!=3.6.1,>=3.4->seaborn) (2.9.0.post0)\n",
      "Requirement already satisfied: pytz>=2020.1 in /Users/teddan/Desktop/GenAI/.venv/lib/python3.13/site-packages (from pandas>=1.2->seaborn) (2025.2)\n",
      "Requirement already satisfied: tzdata>=2022.7 in /Users/teddan/Desktop/GenAI/.venv/lib/python3.13/site-packages (from pandas>=1.2->seaborn) (2025.2)\n",
      "Requirement already satisfied: six>=1.5 in /Users/teddan/Desktop/GenAI/.venv/lib/python3.13/site-packages (from python-dateutil>=2.7->matplotlib!=3.6.1,>=3.4->seaborn) (1.17.0)\n",
      "Note: you may need to restart the kernel to use updated packages.\n"
     ]
    }
   ],
   "source": [
    "pip install seaborn\n"
   ]
  },
  {
   "cell_type": "code",
   "execution_count": 34,
   "id": "5c1e0bbc",
   "metadata": {},
   "outputs": [
    {
     "data": {
      "image/png": "[encoded data removed]",
      "text/plain": [
       "<Figure size 1000x600 with 1 Axes>"
      ]
     },
     "metadata": {},
     "output_type": "display_data"
    }
   ],
   "source": [
    "import seaborn as sns\n",
    "import matplotlib.pyplot as plt\n",
    "\n",
    "# Agréger les profits par produit\n",
    "product_profit = df.groupby(\"Product Name\")[\"Profit\"].sum().sort_values(ascending=False)\n",
    "\n",
    "# Sélection des 10 produits les plus rentables\n",
    "top_products = product_profit.head(10).reset_index()\n",
    "top_products.columns = [\"Product Name\", \"Total Profit\"]\n",
    "\n",
    "# Création du graphique avec palette et hue\n",
    "plt.figure(figsize=(10, 6))\n",
    "ax = sns.barplot(\n",
    "    data=top_products,\n",
    "    x=\"Total Profit\",\n",
    "    y=\"Product Name\",\n",
    "    hue=\"Product Name\",  # Trick pour autoriser palette sans warning\n",
    "    palette=sns.color_palette(\"viridis\", n_colors=len(top_products)),\n",
    "    dodge=False,         # Important : empêche la décalage horizontal\n",
    "    legend=False         # On ne veut pas une légende redondante\n",
    ")\n",
    "\n",
    "# Ajout des annotations\n",
    "for i, v in enumerate(top_products[\"Total Profit\"]):\n",
    "    ax.text(v + 100, i, f\"${v:,.0f}\", va=\"center\", fontsize=9)\n",
    "\n",
    "# Titre et labels\n",
    "plt.title(\"Top 10 Most Profitable Products\")\n",
    "plt.xlabel(\"Total Profit ($)\")\n",
    "plt.ylabel(\"Product Name\")\n",
    "\n",
    "plt.tight_layout()\n",
    "plt.show()"
   ]
  },
  {
   "cell_type": "markdown",
   "id": "e99acc4e",
   "metadata": {},
   "source": [
    "CCL"
   ]
  }
 ],
 "metadata": {
  "kernelspec": {
   "display_name": ".venv",
   "language": "python",
   "name": "python3"
  },
  "language_info": {
   "codemirror_mode": {
    "name": "ipython",
    "version": 3
   },
   "file_extension": ".py",
   "mimetype": "text/x-python",
   "name": "python",
   "nbconvert_exporter": "python",
   "pygments_lexer": "ipython3",
   "version": "3.13.5"
  }
 },
 "nbformat": 4,
 "nbformat_minor": 5
}
