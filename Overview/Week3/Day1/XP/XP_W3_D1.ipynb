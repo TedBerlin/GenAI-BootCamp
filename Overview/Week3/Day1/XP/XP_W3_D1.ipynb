{
 "cells": [
  {
   "cell_type": "markdown",
   "id": "e3a3b670",
   "metadata": {},
   "source": [
    "🌟 Exercise 1 : Array Creation and Manipulation"
   ]
  },
  {
   "cell_type": "code",
   "execution_count": null,
   "id": "0a960c69",
   "metadata": {},
   "outputs": [
    {
     "name": "stdout",
     "output_type": "stream",
     "text": [
      "1D NumPy array from 0 to 9:\n",
      "[0 1 2 3 4 5 6 7 8 9]\n"
     ]
    }
   ],
   "source": [
    "import numpy as np\n",
    "\n",
    "# 1D array with numbers from 0 to 9\n",
    "arr = np.arange(10)\n",
    "\n",
    "# Array display\n",
    "print(\"1D NumPy array from 0 to 9:\")\n",
    "print(arr)"
   ]
  },
  {
   "cell_type": "markdown",
   "id": "f6822fd5",
   "metadata": {},
   "source": [
    "🌟 Exercise 2 : Type Conversion and Array Operations"
   ]
  },
  {
   "cell_type": "code",
   "execution_count": null,
   "id": "6768a40a",
   "metadata": {},
   "outputs": [
    {
     "name": "stdout",
     "output_type": "stream",
     "text": [
      "Original list: [3.14, 2.17, 0, 1, 2]\n",
      "Converted to int NumPy array:\n",
      "[3 2 0 1 2]\n"
     ]
    }
   ],
   "source": [
    "import numpy as np\n",
    "\n",
    "# Original list\n",
    "my_list = [3.14, 2.17, 0, 1, 2]\n",
    "\n",
    "# Conversion into NumPy array with type by default (float)\n",
    "arr_float = np.array(my_list)\n",
    "\n",
    "# Conversion into Int array (round to 0)\n",
    "arr_int = arr_float.astype(int)\n",
    "\n",
    "# Display\n",
    "print(\"Original list:\", my_list)\n",
    "print(\"Converted to int NumPy array:\")\n",
    "print(arr_int)"
   ]
  },
  {
   "cell_type": "markdown",
   "id": "ac04006c",
   "metadata": {},
   "source": [
    "🌟 Exercise 3 : Working with Multi-Dimensional Arrays"
   ]
  },
  {
   "cell_type": "code",
   "execution_count": null,
   "id": "8189c3ed",
   "metadata": {},
   "outputs": [
    {
     "name": "stdout",
     "output_type": "stream",
     "text": [
      "3x3 NumPy array from 1 to 9:\n",
      "[[1 2 3]\n",
      " [4 5 6]\n",
      " [7 8 9]]\n"
     ]
    }
   ],
   "source": [
    "import numpy as np\n",
    "\n",
    "# Array with values from 1 to 9\n",
    "arr = np.arange(1, 10).reshape(3, 3)\n",
    "\n",
    "# 2D array display\n",
    "print(\"3x3 NumPy array from 1 to 9:\")\n",
    "print(arr)"
   ]
  },
  {
   "cell_type": "markdown",
   "id": "fb2bc847",
   "metadata": {},
   "source": [
    "🌟 Exercise 4 : Creating Multi-Dimensional Array with Random Numbers"
   ]
  },
  {
   "cell_type": "code",
   "execution_count": 4,
   "id": "d7e76ef3",
   "metadata": {},
   "outputs": [
    {
     "name": "stdout",
     "output_type": "stream",
     "text": [
      "2D array with random values:\n",
      "[[0.87 0.47 0.16 0.49 0.2 ]\n",
      " [0.65 0.32 0.76 0.99 0.55]\n",
      " [0.65 0.57 0.26 0.57 0.6 ]\n",
      " [0.97 0.22 0.19 0.15 0.04]]\n"
     ]
    }
   ],
   "source": [
    "import numpy as np\n",
    "\n",
    "# CArray size (4, 5) with random numbers between 0 and 1\n",
    "random_array = np.random.rand(4, 5)\n",
    "\n",
    "# Array display\n",
    "np.set_printoptions(precision=2, suppress=True)\n",
    "print(\"2D array with random values:\")\n",
    "print(random_array)"
   ]
  },
  {
   "cell_type": "markdown",
   "id": "54739d9a",
   "metadata": {},
   "source": [
    "🌟 Exercise 5 : Indexing Arrays"
   ]
  },
  {
   "cell_type": "code",
   "execution_count": null,
   "id": "53e44ded",
   "metadata": {},
   "outputs": [
    {
     "name": "stdout",
     "output_type": "stream",
     "text": [
      "Second row of the array:\n",
      "[20 21 22 23 24]\n"
     ]
    }
   ],
   "source": [
    "import numpy as np\n",
    "\n",
    "# 2D Array\n",
    "array = np.array([\n",
    "    [21, 22, 23, 22, 22],\n",
    "    [20, 21, 22, 23, 24],\n",
    "    [21, 22, 23, 22, 22]\n",
    "])\n",
    "\n",
    "# End row selected (index 1 - start to 0)\n",
    "second_row = array[1]\n",
    "\n",
    "# Display\n",
    "print(\"Second row of the array:\")\n",
    "print(second_row)"
   ]
  },
  {
   "cell_type": "markdown",
   "id": "ea9fceb5",
   "metadata": {},
   "source": [
    "🌟 Exercise 6 : Reversing elements"
   ]
  },
  {
   "cell_type": "code",
   "execution_count": 7,
   "id": "dc81cc5d",
   "metadata": {},
   "outputs": [
    {
     "name": "stdout",
     "output_type": "stream",
     "text": [
      "Original array:\n",
      "[0 1 2 3 4 5 6 7 8 9]\n",
      "\n",
      "Reversed array:\n",
      "[9 8 7 6 5 4 3 2 1 0]\n"
     ]
    }
   ],
   "source": [
    "import numpy as np\n",
    "\n",
    "# Créer un tableau 1D de 0 à 9\n",
    "arr = np.arange(10)\n",
    "print(\"Original array:\")\n",
    "print(arr)\n",
    "\n",
    "# Inverser l'ordre des éléments\n",
    "reversed_arr = arr[::-1]\n",
    "print(\"\\nReversed array:\")\n",
    "print(reversed_arr)"
   ]
  },
  {
   "cell_type": "markdown",
   "id": "70ad91e8",
   "metadata": {},
   "source": [
    "🌟 Exercise 7 : Identity Matrix"
   ]
  },
  {
   "cell_type": "code",
   "execution_count": 8,
   "id": "c5d01412",
   "metadata": {},
   "outputs": [
    {
     "name": "stdout",
     "output_type": "stream",
     "text": [
      "[[1. 0. 0. 0.]\n",
      " [0. 1. 0. 0.]\n",
      " [0. 0. 1. 0.]\n",
      " [0. 0. 0. 1.]]\n"
     ]
    }
   ],
   "source": [
    "import numpy as np\n",
    "\n",
    "identity_matrix = np.eye(4)\n",
    "print(identity_matrix)"
   ]
  },
  {
   "cell_type": "markdown",
   "id": "8439634e",
   "metadata": {},
   "source": [
    "🌟 Exercise 8 : Simple Aggregate Funcs"
   ]
  },
  {
   "cell_type": "code",
   "execution_count": null,
   "id": "1331e085",
   "metadata": {},
   "outputs": [
    {
     "name": "stdout",
     "output_type": "stream",
     "text": [
      "Sum: 55, Average: 5.5\n"
     ]
    }
   ],
   "source": [
    "import numpy as np\n",
    "\n",
    "# 1D array example\n",
    "arr = np.array([1, 2, 3, 4, 5, 6, 7, 8, 9, 10])\n",
    "\n",
    "#  Sum and mean\n",
    "sum_result = np.sum(arr)\n",
    "average_result = np.mean(arr)\n",
    "\n",
    "# Results\n",
    "print(f\"Sum: {sum_result}, Average: {average_result}\")"
   ]
  },
  {
   "cell_type": "markdown",
   "id": "f9e1c2b0",
   "metadata": {},
   "source": [
    "🌟 Exercise 9 : Create Array and Change its Structure"
   ]
  },
  {
   "cell_type": "code",
   "execution_count": null,
   "id": "50269905",
   "metadata": {},
   "outputs": [
    {
     "name": "stdout",
     "output_type": "stream",
     "text": [
      "[[ 1  2  3  4  5]\n",
      " [ 6  7  8  9 10]\n",
      " [11 12 13 14 15]\n",
      " [16 17 18 19 20]]\n"
     ]
    }
   ],
   "source": [
    "import numpy as np\n",
    "\n",
    "# 1 : Créer un tableau 1D array elements from 1 to 20\n",
    "\n",
    "arr = np.arange(1, 21)  \n",
    "\n",
    "# 2 : Resizing in matrice 4x5\n",
    "matrix = arr.reshape(4, 5)\n",
    "\n",
    "# Afficher le résultat\n",
    "print(matrix)"
   ]
  },
  {
   "cell_type": "markdown",
   "id": "72452d7a",
   "metadata": {},
   "source": [
    "🌟 Exercise 10 : Conditional Selection of Values"
   ]
  },
  {
   "cell_type": "code",
   "execution_count": 11,
   "id": "afb8649f",
   "metadata": {},
   "outputs": [
    {
     "name": "stdout",
     "output_type": "stream",
     "text": [
      "[1 3 5 7 9]\n"
     ]
    }
   ],
   "source": [
    "import numpy as np\n",
    "\n",
    "# Création d'un tableau exemple\n",
    "arr = np.array([1, 2, 3, 4, 5, 6, 7, 8, 9, 10])\n",
    "\n",
    "# Extraction des nombres impairs\n",
    "odd_numbers = arr[arr % 2 != 0]\n",
    "\n",
    "# Affichage du résultat\n",
    "print(odd_numbers)"
   ]
  }
 ],
 "metadata": {
  "kernelspec": {
   "display_name": ".venv",
   "language": "python",
   "name": "python3"
  },
  "language_info": {
   "codemirror_mode": {
    "name": "ipython",
    "version": 3
   },
   "file_extension": ".py",
   "mimetype": "text/x-python",
   "name": "python",
   "nbconvert_exporter": "python",
   "pygments_lexer": "ipython3",
   "version": "3.13.5"
  }
 },
 "nbformat": 4,
 "nbformat_minor": 5
}
