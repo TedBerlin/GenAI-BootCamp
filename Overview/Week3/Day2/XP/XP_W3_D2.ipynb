{
 "cells": [
  {
   "cell_type": "markdown",
   "id": "3ed5d2b5",
   "metadata": {},
   "source": [
    "🌟 Exercise 1 : Matrix Operations"
   ]
  },
  {
   "cell_type": "code",
   "execution_count": 6,
   "id": "801bb1e7",
   "metadata": {},
   "outputs": [
    {
     "name": "stdout",
     "output_type": "stream",
     "text": [
      "Determinant: 0.9999999999999987\n",
      "Inverse of A:\n",
      "[[-24.  18.   5.]\n",
      " [ 20. -15.  -4.]\n",
      " [ -5.   4.   1.]]\n"
     ]
    }
   ],
   "source": [
    "import numpy as np\n",
    "\n",
    "A = np.array([\n",
    "    [1, 2, 3],\n",
    "    [0, 1, 4],\n",
    "    [5, 6, 0]\n",
    "])\n",
    "\n",
    "det_A = np.linalg.det(A)\n",
    "print(\"Determinant:\", det_A)  # Output: 1.0 (floating-point approximation)\n",
    "\n",
    "A_inv = np.linalg.inv(A)\n",
    "print(\"Inverse of A:\")\n",
    "print(A_inv)"
   ]
  },
  {
   "cell_type": "markdown",
   "id": "319331ca",
   "metadata": {},
   "source": [
    "🌟 Exercise 2 : Statistical Analysis"
   ]
  },
  {
   "cell_type": "code",
   "execution_count": 12,
   "id": "95e4e089",
   "metadata": {},
   "outputs": [
    {
     "name": "stdout",
     "output_type": "stream",
     "text": [
      "Random Data: [0.37454012 0.95071431 0.73199394 0.59865848 0.15601864 0.15599452\n",
      " 0.05808361 0.86617615 0.60111501 0.70807258 0.02058449 0.96990985\n",
      " 0.83244264 0.21233911 0.18182497 0.18340451 0.30424224 0.52475643\n",
      " 0.43194502 0.29122914 0.61185289 0.13949386 0.29214465 0.36636184\n",
      " 0.45606998 0.78517596 0.19967378 0.51423444 0.59241457 0.04645041\n",
      " 0.60754485 0.17052412 0.06505159 0.94888554 0.96563203 0.80839735\n",
      " 0.30461377 0.09767211 0.68423303 0.44015249 0.12203823 0.49517691\n",
      " 0.03438852 0.9093204  0.25877998 0.66252228 0.31171108 0.52006802\n",
      " 0.54671028 0.18485446]\n",
      "Mean: 0.44592390439226115\n",
      "Median: 0.43604875619085853\n",
      "Standard Deviation: 0.2859797785370301\n"
     ]
    }
   ],
   "source": [
    "# Random data generation between \n",
    "\n",
    "import numpy as np\n",
    "\n",
    "# Set a seed for reproducibility \n",
    "np.random.seed(42)\n",
    "\n",
    "# Generate 50 random numbers between 0 and 1\n",
    "data = np.random.rand(50)\n",
    "\n",
    "\n",
    "# Compute Mean, Median, and Standard Deviation from NumPy\n",
    "\n",
    "mean = np.mean(data)\n",
    "median = np.median(data)\n",
    "std_dev = np.std(data)\n",
    "\n",
    "print(\"Random Data:\", data)\n",
    "\n",
    "print(\"Mean:\", mean)\n",
    "print(\"Median:\", median)\n",
    "print(\"Standard Deviation:\", std_dev)"
   ]
  },
  {
   "cell_type": "markdown",
   "id": "cb7a3970",
   "metadata": {},
   "source": [
    "# Zoom sur 5 valeurs"
   ]
  },
  {
   "cell_type": "code",
   "execution_count": 13,
   "id": "6ed52b8f",
   "metadata": {},
   "outputs": [
    {
     "name": "stdout",
     "output_type": "stream",
     "text": [
      "Data (first 5 values): [0.37454012 0.95071431 0.73199394 0.59865848 0.15601864]\n",
      "Mean: 0.44592390439226115\n",
      "Median: 0.43604875619085853\n",
      "Standard Deviation: 0.2859797785370301\n"
     ]
    }
   ],
   "source": [
    "import numpy as np\n",
    "\n",
    "# Generate random data\n",
    "np.random.seed(42)  # Optional (for reproducibility)\n",
    "data = np.random.rand(50)\n",
    "\n",
    "# Compute statistics\n",
    "mean = np.mean(data)\n",
    "median = np.median(data)\n",
    "std_dev = np.std(data)\n",
    "\n",
    "# Display results\n",
    "print(\"Data (first 5 values):\", data[:5])\n",
    "print(\"Mean:\", mean)\n",
    "print(\"Median:\", median)\n",
    "print(\"Standard Deviation:\", std_dev)"
   ]
  },
  {
   "cell_type": "markdown",
   "id": "79934456",
   "metadata": {},
   "source": [
    "🌟 Exercise 3 : Date Manipulation"
   ]
  },
  {
   "cell_type": "code",
   "execution_count": 14,
   "id": "e6c104ab",
   "metadata": {},
   "outputs": [
    {
     "name": "stdout",
     "output_type": "stream",
     "text": [
      "Original dates (YYYY-MM-DD):\n",
      "['2023-01-01' '2023-01-02' '2023-01-03' '2023-01-04' '2023-01-05'\n",
      " '2023-01-06' '2023-01-07' '2023-01-08' '2023-01-09' '2023-01-10'\n",
      " '2023-01-11' '2023-01-12' '2023-01-13' '2023-01-14' '2023-01-15'\n",
      " '2023-01-16' '2023-01-17' '2023-01-18' '2023-01-19' '2023-01-20'\n",
      " '2023-01-21' '2023-01-22' '2023-01-23' '2023-01-24' '2023-01-25'\n",
      " '2023-01-26' '2023-01-27' '2023-01-28' '2023-01-29' '2023-01-30'\n",
      " '2023-01-31']\n"
     ]
    }
   ],
   "source": [
    "import numpy as np\n",
    "\n",
    "# Generate all dates in January 2023\n",
    "dates = np.arange('2023-01-01', '2023-02-01', dtype='datetime64[D]')\n",
    "\n",
    "print(\"Original dates (YYYY-MM-DD):\")\n",
    "print(dates)"
   ]
  },
  {
   "cell_type": "code",
   "execution_count": 15,
   "id": "13e57503",
   "metadata": {},
   "outputs": [
    {
     "name": "stdout",
     "output_type": "stream",
     "text": [
      "\n",
      "Formatted dates (YYYY/MM/DD):\n",
      "['2023/01/01' '2023/01/02' '2023/01/03' '2023/01/04' '2023/01/05'\n",
      " '2023/01/06' '2023/01/07' '2023/01/08' '2023/01/09' '2023/01/10'\n",
      " '2023/01/11' '2023/01/12' '2023/01/13' '2023/01/14' '2023/01/15'\n",
      " '2023/01/16' '2023/01/17' '2023/01/18' '2023/01/19' '2023/01/20'\n",
      " '2023/01/21' '2023/01/22' '2023/01/23' '2023/01/24' '2023/01/25'\n",
      " '2023/01/26' '2023/01/27' '2023/01/28' '2023/01/29' '2023/01/30'\n",
      " '2023/01/31']\n"
     ]
    }
   ],
   "source": [
    "# Convert to YYYY/MM/DD format\n",
    "\n",
    "formatted_dates = np.array([d.replace(\"-\", \"/\") for d in dates.astype(str)])\n",
    "\n",
    "print(\"\\nFormatted dates (YYYY/MM/DD):\")\n",
    "print(formatted_dates)"
   ]
  },
  {
   "cell_type": "markdown",
   "id": "05ad0092",
   "metadata": {},
   "source": [
    "🌟 Exercise 4 : Data Manipulation with NumPy and Pandas"
   ]
  },
  {
   "cell_type": "code",
   "execution_count": 16,
   "id": "c5408d4e",
   "metadata": {},
   "outputs": [
    {
     "name": "stdout",
     "output_type": "stream",
     "text": [
      "Original DataFrame:\n",
      "           A          B          C          D          E\n",
      "0  37.454012  95.071431  73.199394  59.865848  15.601864\n",
      "1  15.599452   5.808361  86.617615  60.111501  70.807258\n",
      "2   2.058449  96.990985  83.244264  21.233911  18.182497\n",
      "3  18.340451  30.424224  52.475643  43.194502  29.122914\n",
      "4  61.185289  13.949386  29.214465  36.636184  45.606998\n"
     ]
    }
   ],
   "source": [
    "import pandas as pd\n",
    "import numpy as np\n",
    "\n",
    "# Set random seed for reproducibility\n",
    "np.random.seed(42)\n",
    "\n",
    "# Create a 5x5 DataFrame with random numbers (0-100)\n",
    "df = pd.DataFrame(np.random.uniform(0, 100, size=(5, 5)), columns=['A', 'B', 'C', 'D', 'E'])\n",
    "\n",
    "print(\"Original DataFrame:\")\n",
    "print(df)"
   ]
  },
  {
   "cell_type": "code",
   "execution_count": null,
   "id": "4b071a8a",
   "metadata": {},
   "outputs": [
    {
     "name": "stdout",
     "output_type": "stream",
     "text": [
      "\n",
      "Rows where A > 50:\n",
      "           A          B          C          D          E\n",
      "4  61.185289  13.949386  29.214465  36.636184  45.606998\n"
     ]
    }
   ],
   "source": [
    "# Rows where column 'A' > 50\n",
    "\n",
    "filtered_df = df[df['A'] > 50]\n",
    "print(\"\\nRows where A > 50:\")\n",
    "print(filtered_df)"
   ]
  },
  {
   "cell_type": "code",
   "execution_count": 18,
   "id": "91952a0e",
   "metadata": {},
   "outputs": [
    {
     "name": "stdout",
     "output_type": "stream",
     "text": [
      "\n",
      "Values > 80:\n",
      "    A          B          C   D   E\n",
      "0 NaN  95.071431        NaN NaN NaN\n",
      "1 NaN        NaN  86.617615 NaN NaN\n",
      "2 NaN  96.990985  83.244264 NaN NaN\n",
      "3 NaN        NaN        NaN NaN NaN\n",
      "4 NaN        NaN        NaN NaN NaN\n"
     ]
    }
   ],
   "source": [
    "# Values > 80 in the entire DataFrame\n",
    "\n",
    "high_values = df[df > 80]\n",
    "print(\"\\nValues > 80:\")\n",
    "print(high_values)"
   ]
  },
  {
   "cell_type": "code",
   "execution_count": 19,
   "id": "bd4b4589",
   "metadata": {},
   "outputs": [
    {
     "name": "stdout",
     "output_type": "stream",
     "text": [
      "\n",
      "Column-wise Sum:\n",
      "A    134.637654\n",
      "B    242.244387\n",
      "C    324.751381\n",
      "D    221.041947\n",
      "E    179.321531\n",
      "dtype: float64\n",
      "\n",
      "Column-wise Mean:\n",
      "A    26.927531\n",
      "B    48.448877\n",
      "C    64.950276\n",
      "D    44.208389\n",
      "E    35.864306\n",
      "dtype: float64\n"
     ]
    }
   ],
   "source": [
    "# Aggregation Functions\n",
    "\n",
    "# Compute sum, mean (average), max, min, etc.\n",
    "\n",
    "print(\"\\nColumn-wise Sum:\")\n",
    "print(df.sum())  # Sum\n",
    "\n",
    "print(\"\\nColumn-wise Mean:\")\n",
    "print(df.mean())  # Average"
   ]
  },
  {
   "cell_type": "code",
   "execution_count": 20,
   "id": "50eecd2b",
   "metadata": {},
   "outputs": [
    {
     "name": "stdout",
     "output_type": "stream",
     "text": [
      "\n",
      "Row-wise Sum:\n",
      "0    281.192549\n",
      "1    238.944187\n",
      "2    221.710107\n",
      "3    173.557734\n",
      "4    186.592323\n",
      "dtype: float64\n",
      "\n",
      "Row-wise Max:\n",
      "0    95.071431\n",
      "1    86.617615\n",
      "2    96.990985\n",
      "3    52.475643\n",
      "4    61.185289\n",
      "dtype: float64\n"
     ]
    }
   ],
   "source": [
    "# Row-wise Aggregation\n",
    "\n",
    "print(\"\\nRow-wise Sum:\")\n",
    "print(df.sum(axis=1))  # Sum\n",
    "\n",
    "print(\"\\nRow-wise Max:\")\n",
    "print(df.max(axis=1))  # Max value "
   ]
  },
  {
   "cell_type": "code",
   "execution_count": 21,
   "id": "f4c54a15",
   "metadata": {},
   "outputs": [
    {
     "name": "stdout",
     "output_type": "stream",
     "text": [
      "\n",
      "Rows where A > 50 and B < 50:\n",
      "           A          B          C          D          E\n",
      "4  61.185289  13.949386  29.214465  36.636184  45.606998\n"
     ]
    }
   ],
   "source": [
    "# Multi-Condition Filtering (and), | (or) for complex conditions.\n",
    "\n",
    "\n",
    "# Select rows where A > 50 AND B < 50\n",
    "filtered_df = df[(df['A'] > 50) & (df['B'] < 50)]\n",
    "print(\"\\nRows where A > 50 and B < 50:\")\n",
    "print(filtered_df)"
   ]
  },
  {
   "cell_type": "markdown",
   "id": "f407a936",
   "metadata": {},
   "source": [
    "🌟 Exercise 5 : Image Representation"
   ]
  },
  {
   "cell_type": "markdown",
   "id": "484610f7",
   "metadata": {},
   "source": [
    "Images are essentially grids of pixel values, and NumPy arrays are perfect for representing them.\n",
    "\n",
    "*   Grayscale Images (2D Array)\n",
    "\n",
    "    ° Each pixel is a single value (0=black, 255=white).\n",
    "\n",
    "    ° Shape: (height, width).\n",
    "\n",
    "* Color Images (3D Array)\n",
    "\n",
    "    ° Each pixel has 3 values (Red, Green, Blue).\n",
    "\n",
    "    ° Shape: (height, width, 3)."
   ]
  },
  {
   "cell_type": "code",
   "execution_count": 22,
   "id": "2e86cad4",
   "metadata": {},
   "outputs": [
    {
     "name": "stdout",
     "output_type": "stream",
     "text": [
      "Grayscale Image Array:\n",
      "[[  0  64 128 192 255]\n",
      " [255 192 128  64   0]\n",
      " [ 50 100 150 200 250]\n",
      " [  0   0 128 128 255]\n",
      " [255 128   0 128 255]]\n"
     ]
    }
   ],
   "source": [
    "import numpy as np\n",
    "\n",
    "# Create a 5x5 grayscale image (values 0 to 255)\n",
    "\n",
    "grayscale_image = np.array([\n",
    "    [0, 64, 128, 192, 255],    # Gradient row\n",
    "    [255, 192, 128, 64, 0],     # Reverse gradient\n",
    "    [50, 100, 150, 200, 250],   # Stepped gradient\n",
    "    [0, 0, 128, 128, 255],      # Binary-like\n",
    "    [255, 128, 0, 128, 255]     # Symmetric pattern\n",
    "], dtype=np.uint8)  # uint8 ensures values are 0-255\n",
    "\n",
    "print(\"Grayscale Image Array:\")\n",
    "print(grayscale_image)"
   ]
  },
  {
   "cell_type": "code",
   "execution_count": 23,
   "id": "75b4d033",
   "metadata": {},
   "outputs": [
    {
     "data": {
      "image/png": "[encoded data removed]",
      "text/plain": [
       "<Figure size 640x480 with 2 Axes>"
      ]
     },
     "metadata": {},
     "output_type": "display_data"
    }
   ],
   "source": [
    "# Visualization via matplotlib to display.\n",
    "\n",
    "import matplotlib.pyplot as plt\n",
    "\n",
    "plt.imshow(grayscale_image, cmap='gray', vmin=0, vmax=255)\n",
    "plt.title(\"5x5 Grayscale Image\")\n",
    "plt.colorbar()\n",
    "plt.show()"
   ]
  },
  {
   "cell_type": "code",
   "execution_count": 24,
   "id": "ad591087",
   "metadata": {},
   "outputs": [
    {
     "data": {
      "image/png": "[encoded data removed]",
      "text/plain": [
       "<Figure size 640x480 with 1 Axes>"
      ]
     },
     "metadata": {},
     "output_type": "display_data"
    }
   ],
   "source": [
    "# Color Image (3D Array)\n",
    "\n",
    "# A 5x5x3 color image (random colors)\n",
    "color_image = np.random.randint(0, 256, size=(5, 5, 3), dtype=np.uint8)\n",
    "\n",
    "plt.imshow(color_image)\n",
    "plt.title(\"5x5 Color Image\")\n",
    "plt.show()"
   ]
  },
  {
   "cell_type": "markdown",
   "id": "d564ab71",
   "metadata": {},
   "source": [
    "🌟 Exercise 6 : Basic Hypothesis Testing"
   ]
  },
  {
   "cell_type": "code",
   "execution_count": null,
   "id": "42f28fb1",
   "metadata": {},
   "outputs": [],
   "source": [
    "###"
   ]
  },
  {
   "cell_type": "markdown",
   "id": "2ad3116b",
   "metadata": {},
   "source": [
    "🌟 Exercise 7: Complex Array Comparison"
   ]
  },
  {
   "cell_type": "code",
   "execution_count": 25,
   "id": "7cc7fca4",
   "metadata": {},
   "outputs": [
    {
     "name": "stdout",
     "output_type": "stream",
     "text": [
      "Array 1:\n",
      " [[6 3 7]\n",
      " [4 6 9]\n",
      " [2 6 7]]\n",
      "\n",
      "Array 2:\n",
      " [[4 3 7]\n",
      " [7 2 5]\n",
      " [4 1 7]]\n"
     ]
    }
   ],
   "source": [
    "# 2 Arrays creation by 2 random 3x3 arrays to be compared:\n",
    "\n",
    "import numpy as np\n",
    "\n",
    "# Set random seed for reproducibility\n",
    "np.random.seed(42)\n",
    "\n",
    "# Create two 3x3 arrays with random integers (0-9)\n",
    "array1 = np.random.randint(0, 10, size=(3, 3))\n",
    "array2 = np.random.randint(0, 10, size=(3, 3))\n",
    "\n",
    "print(\"Array 1:\\n\", array1)\n",
    "print(\"\\nArray 2:\\n\", array2)"
   ]
  },
  {
   "cell_type": "code",
   "execution_count": 26,
   "id": "877c4696",
   "metadata": {},
   "outputs": [
    {
     "name": "stdout",
     "output_type": "stream",
     "text": [
      "\n",
      "Elements in Array1 > Array2:\n",
      " [[ True False False]\n",
      " [False  True  True]\n",
      " [False  True False]]\n"
     ]
    }
   ],
   "source": [
    "# Element-wise Comparison via > operator to compare:\n",
    "\n",
    "\n",
    "comparison_result = array1 > array2\n",
    "print(\"\\nElements in Array1 > Array2:\\n\", comparison_result)"
   ]
  },
  {
   "cell_type": "markdown",
   "id": "ff284ada",
   "metadata": {},
   "source": [
    "True : element in Array1 greater\n",
    "False : element in Array1 is not greater"
   ]
  },
  {
   "cell_type": "code",
   "execution_count": 27,
   "id": "dc8bc162",
   "metadata": {},
   "outputs": [
    {
     "name": "stdout",
     "output_type": "stream",
     "text": [
      "\n",
      "Number of elements where Array1 > Array2: 4\n"
     ]
    }
   ],
   "source": [
    "# Number of True Values\n",
    "\n",
    "\n",
    "count_true = np.sum(comparison_result)\n",
    "print(\"\\nNumber of elements where Array1 > Array2:\", count_true)"
   ]
  },
  {
   "cell_type": "markdown",
   "id": "f60c2727",
   "metadata": {},
   "source": [
    "🌟 Exercise 8 : Time Series Data Manipulation"
   ]
  },
  {
   "cell_type": "code",
   "execution_count": 28,
   "id": "f5d89ad5",
   "metadata": {},
   "outputs": [
    {
     "name": "stdout",
     "output_type": "stream",
     "text": [
      "First 5 days of 2023:\n",
      "            value\n",
      "2023-01-01     88\n",
      "2023-01-02     78\n",
      "2023-01-03     64\n",
      "2023-01-04     92\n",
      "2023-01-05     57\n"
     ]
    }
   ],
   "source": [
    "# Daily Time Series for 2023 to be generated\n",
    "\n",
    "\n",
    "import pandas as pd\n",
    "import numpy as np\n",
    "\n",
    "# Set random seed for reproducibility\n",
    "np.random.seed(42)\n",
    "\n",
    "# Generate date range for 2023\n",
    "dates = pd.date_range(start='2023-01-01', end='2023-12-31', freq='D')\n",
    "\n",
    "# Create DataFrame with random values\n",
    "time_series = pd.DataFrame({\n",
    "    'value': np.random.randint(50, 100, size=len(dates))\n",
    "}, index=dates)\n",
    "\n",
    "print(\"First 5 days of 2023:\")\n",
    "print(time_series.head())\n",
    "\n"
   ]
  },
  {
   "cell_type": "code",
   "execution_count": 29,
   "id": "b1df3e0e",
   "metadata": {},
   "outputs": [
    {
     "name": "stdout",
     "output_type": "stream",
     "text": [
      "\n",
      "Q1 (Jan-Mar) shape: (90, 1)\n"
     ]
    }
   ],
   "source": [
    "# 1. January - March (Q1)\n",
    "\n",
    "q1 = time_series['2023-01':'2023-03']\n",
    "print(\"\\nQ1 (Jan-Mar) shape:\", q1.shape)  # Should be 90 days (31 + 28 + 31)"
   ]
  },
  {
   "cell_type": "code",
   "execution_count": 30,
   "id": "92411ce9",
   "metadata": {},
   "outputs": [
    {
     "name": "stdout",
     "output_type": "stream",
     "text": [
      "Q2 (Apr-Jun) shape: (91, 1)\n"
     ]
    }
   ],
   "source": [
    "# 2. April - June (Q2)\n",
    "\n",
    "q2 = time_series['2023-04':'2023-06']\n",
    "print(\"Q2 (Apr-Jun) shape:\", q2.shape)  # 91 days (30 + 31 + 30)"
   ]
  },
  {
   "cell_type": "code",
   "execution_count": 31,
   "id": "ccad26da",
   "metadata": {},
   "outputs": [
    {
     "name": "stdout",
     "output_type": "stream",
     "text": [
      "Q3 (Jul-Sep) shape: (92, 1)\n"
     ]
    }
   ],
   "source": [
    "# 3. July - September (Q3)\n",
    "\n",
    "q3 = time_series['2023-07':'2023-09']\n",
    "print(\"Q3 (Jul-Sep) shape:\", q3.shape)  # 92 days (31 + 31 + 30)"
   ]
  },
  {
   "cell_type": "code",
   "execution_count": 32,
   "id": "c2a27b00",
   "metadata": {},
   "outputs": [
    {
     "name": "stdout",
     "output_type": "stream",
     "text": [
      "Q4 (Oct-Dec) shape: (92, 1)\n"
     ]
    }
   ],
   "source": [
    "# 4. October - December (Q4)\n",
    "\n",
    "q4 = time_series['2023-10':'2023-12']\n",
    "print(\"Q4 (Oct-Dec) shape:\", q4.shape)  # 92 days (31 + 30 + 31)"
   ]
  },
  {
   "cell_type": "code",
   "execution_count": 33,
   "id": "efe3a6be",
   "metadata": {},
   "outputs": [
    {
     "name": "stdout",
     "output_type": "stream",
     "text": [
      "\n",
      "Q1 starts: 2023-01-01 00:00:00 ends: 2023-03-31 00:00:00\n",
      "Q2 starts: 2023-04-01 00:00:00 ends: 2023-06-30 00:00:00\n",
      "Q3 starts: 2023-07-01 00:00:00 ends: 2023-09-30 00:00:00\n",
      "Q4 starts: 2023-10-01 00:00:00 ends: 2023-12-31 00:00:00\n"
     ]
    }
   ],
   "source": [
    "# Quarterly Data Verification via start/end dates of each quarter checking:\n",
    "\n",
    "print(\"\\nQ1 starts:\", q1.index[0], \"ends:\", q1.index[-1])\n",
    "print(\"Q2 starts:\", q2.index[0], \"ends:\", q2.index[-1])\n",
    "print(\"Q3 starts:\", q3.index[0], \"ends:\", q3.index[-1])\n",
    "print(\"Q4 starts:\", q4.index[0], \"ends:\", q4.index[-1])"
   ]
  },
  {
   "cell_type": "code",
   "execution_count": 35,
   "id": "3ff58283",
   "metadata": {},
   "outputs": [
    {
     "name": "stdout",
     "output_type": "stream",
     "text": [
      "\n",
      "Monthly averages:\n",
      "            value\n",
      "2023-01-31  74.16\n",
      "2023-02-28  73.71\n",
      "2023-03-31  74.03\n",
      "2023-04-30  71.90\n",
      "2023-05-31  74.26\n",
      "2023-06-30  77.50\n",
      "2023-07-31  75.65\n",
      "2023-08-31  71.81\n",
      "2023-09-30  73.33\n",
      "2023-10-31  74.55\n",
      "2023-11-30  74.13\n",
      "2023-12-31  79.90\n"
     ]
    }
   ],
   "source": [
    "# Monthly Aggregation from the time series:\n",
    "\n",
    "monthly_avg = time_series.resample('ME').mean()\n",
    "print(\"\\nMonthly averages:\")\n",
    "print(monthly_avg.round(2))"
   ]
  },
  {
   "cell_type": "markdown",
   "id": "fdf9a179",
   "metadata": {},
   "source": [
    "🌟 Exercise 9 : Data Conversion"
   ]
  },
  {
   "cell_type": "code",
   "execution_count": 36,
   "id": "6e811eca",
   "metadata": {},
   "outputs": [
    {
     "name": "stdout",
     "output_type": "stream",
     "text": [
      "DataFrame from NumPy array:\n",
      "   A  B  C\n",
      "0  1  2  3\n",
      "1  4  5  6\n",
      "2  7  8  9\n"
     ]
    }
   ],
   "source": [
    "# Convert NumPy Array → Pandas DataFrame\n",
    "\n",
    "import numpy as np\n",
    "import pandas as pd\n",
    "\n",
    "# Create a 3x3 NumPy array\n",
    "numpy_array = np.array([\n",
    "    [1, 2, 3],\n",
    "    [4, 5, 6],\n",
    "    [7, 8, 9]\n",
    "])\n",
    "\n",
    "# Convert to DataFrame\n",
    "df = pd.DataFrame(numpy_array, columns=['A', 'B', 'C'])\n",
    "\n",
    "print(\"DataFrame from NumPy array:\")\n",
    "print(df)"
   ]
  },
  {
   "cell_type": "code",
   "execution_count": 37,
   "id": "abfd94fb",
   "metadata": {},
   "outputs": [
    {
     "name": "stdout",
     "output_type": "stream",
     "text": [
      "\n",
      "NumPy array from DataFrame:\n",
      "[[1 2 3]\n",
      " [4 5 6]\n",
      " [7 8 9]]\n"
     ]
    }
   ],
   "source": [
    "# Convert Pandas DataFrame → NumPy Array\n",
    "\n",
    "new_array = df.values \n",
    "\n",
    "print(\"\\nNumPy array from DataFrame:\")\n",
    "print(new_array)"
   ]
  },
  {
   "cell_type": "markdown",
   "id": "45da1a33",
   "metadata": {},
   "source": [
    "🌟 Exercise 10 : Basic Visualization"
   ]
  },
  {
   "cell_type": "code",
   "execution_count": 38,
   "id": "48ae66d1",
   "metadata": {},
   "outputs": [
    {
     "name": "stdout",
     "output_type": "stream",
     "text": [
      "First 5 Y-values: [3.75 9.51 7.32 5.99 1.56]\n"
     ]
    }
   ],
   "source": [
    "# Random Data with NumPy Generate\n",
    "\n",
    "import numpy as np\n",
    "import matplotlib.pyplot as plt\n",
    "\n",
    "# Set random seed for reproducibility\n",
    "np.random.seed(42)\n",
    "\n",
    "# Generate 50 random points between 0 and 10\n",
    "x = np.arange(50)  # X-axis values (0 to 49)\n",
    "y = np.random.uniform(0, 10, size=50)  # Y-axis values\n",
    "\n",
    "print(\"First 5 Y-values:\", y[:5].round(2))"
   ]
  },
  {
   "cell_type": "code",
   "execution_count": 40,
   "id": "1a1e8388",
   "metadata": {},
   "outputs": [
    {
     "data": {
      "image/png": "[encoded data removed]",
      "text/plain": [
       "<Figure size 1000x500 with 1 Axes>"
      ]
     },
     "metadata": {},
     "output_type": "display_data"
    }
   ],
   "source": [
    "# With a Line Plot\n",
    "\n",
    "plt.figure(figsize=(10, 5))  # Set figure size\n",
    "\n",
    "# Plot the data\n",
    "plt.plot(x, y, \n",
    "         color='blue', \n",
    "         linestyle='-', \n",
    "         linewidth=2, \n",
    "         marker='o', \n",
    "         markersize=5, \n",
    "         label='Random Data')\n",
    "\n",
    "# Add titles and labels\n",
    "plt.title(\"Random Data Line Plot\", fontsize=14)\n",
    "plt.xlabel(\"Index\", fontsize=12)\n",
    "plt.ylabel(\"Value\", fontsize=12)\n",
    "plt.grid(True, linestyle='--', alpha=0.7)\n",
    "plt.legend()\n",
    "\n",
    "# Display the plot\n",
    "plt.show()"
   ]
  }
 ],
 "metadata": {
  "kernelspec": {
   "display_name": ".venv",
   "language": "python",
   "name": "python3"
  },
  "language_info": {
   "codemirror_mode": {
    "name": "ipython",
    "version": 3
   },
   "file_extension": ".py",
   "mimetype": "text/x-python",
   "name": "python",
   "nbconvert_exporter": "python",
   "pygments_lexer": "ipython3",
   "version": "3.13.5"
  }
 },
 "nbformat": 4,
 "nbformat_minor": 5
}
