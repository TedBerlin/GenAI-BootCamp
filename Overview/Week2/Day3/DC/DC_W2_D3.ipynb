{
 "cells": [
  {
   "cell_type": "markdown",
   "id": "09290268",
   "metadata": {},
   "source": [
    "Daily Challenge: Data Handling and Analysis in Python"
   ]
  },
  {
   "cell_type": "code",
   "execution_count": 1,
   "id": "72c69afe",
   "metadata": {},
   "outputs": [
    {
     "name": "stdout",
     "output_type": "stream",
     "text": [
      "   Unnamed: 0       job_title   job_type experience_level       location  \\\n",
      "0           0  Data scientist  Full Time           Senior  New York City   \n",
      "1           2  Data scientist  Full Time           Senior         Boston   \n",
      "2           3  Data scientist  Full Time           Senior         London   \n",
      "3           4  Data scientist  Full Time           Senior         Boston   \n",
      "4           5  Data scientist  Full Time           Senior  New York City   \n",
      "\n",
      "  salary_currency  salary  \n",
      "0             USD  149000  \n",
      "1             USD  120000  \n",
      "2             USD   68000  \n",
      "3             USD  120000  \n",
      "4             USD  149000  \n"
     ]
    }
   ],
   "source": [
    "import pandas as pd\n",
    "\n",
    "# CDataset upload\n",
    "df = pd.read_csv(\"datascience_salaries.csv\")\n",
    "\n",
    "# Afficher les premières lignes\n",
    "print(df.head())"
   ]
  },
  {
   "cell_type": "code",
   "execution_count": 2,
   "id": "2f930c92",
   "metadata": {},
   "outputs": [
    {
     "name": "stdout",
     "output_type": "stream",
     "text": [
      "   salary  salary_normalized\n",
      "0  149000           0.601010\n",
      "1  120000           0.454545\n",
      "2   68000           0.191919\n",
      "3  120000           0.454545\n",
      "4  149000           0.601010\n"
     ]
    }
   ],
   "source": [
    "# Min-Max Normalization on salary\n",
    "\n",
    "from sklearn.preprocessing import MinMaxScaler\n",
    "\n",
    "# Initialiser le scaler\n",
    "scaler = MinMaxScaler()\n",
    "\n",
    "# Applied only on 'salary'\n",
    "df['salary_normalized'] = scaler.fit_transform(df[['salary']])\n",
    "\n",
    "# Verification display\n",
    "print(df[['salary', 'salary_normalized']].head())"
   ]
  },
  {
   "cell_type": "code",
   "execution_count": 3,
   "id": "b25f1a7f",
   "metadata": {},
   "outputs": [
    {
     "name": "stdout",
     "output_type": "stream",
     "text": [
      "          PC1       PC2\n",
      "0 -931.620836  0.427553\n",
      "1 -929.620836  0.281083\n",
      "2 -928.620837  0.018454\n",
      "3 -927.620836  0.281077\n",
      "4 -926.620836  0.427539\n"
     ]
    }
   ],
   "source": [
    "# Dimension reduction (PCA)\n",
    "# PCA applied except ID, dates ..\n",
    "\n",
    "\n",
    "from sklearn.decomposition import PCA\n",
    "\n",
    "# Onky useful numerical columns\n",
    "numeric_cols = df.select_dtypes(include=['int64', 'float64']).drop(columns=['salary']).copy()\n",
    "\n",
    "# PCA applied to reduce to 2 dimensions\n",
    "pca = PCA(n_components=2)\n",
    "reduced_data = pca.fit_transform(numeric_cols)\n",
    "\n",
    "# Intéeration of principal components to DataFrame\n",
    "df['PC1'] = reduced_data[:, 0]\n",
    "df['PC2'] = reduced_data[:, 1]\n",
    "\n",
    "# Véeification\n",
    "print(df[['PC1', 'PC2']].head())"
   ]
  },
  {
   "cell_type": "code",
   "execution_count": 4,
   "id": "76ae2cb5",
   "metadata": {},
   "outputs": [
    {
     "name": "stdout",
     "output_type": "stream",
     "text": [
      "  experience_level          mean   median\n",
      "0            Entry  36111.111111  30000.0\n",
      "1        Executive  76076.923077  46000.0\n",
      "2              Mid  51786.885246  51000.0\n",
      "3           Senior  75088.033012  68000.0\n"
     ]
    }
   ],
   "source": [
    "# Agrégation par experience_level\n",
    "\n",
    "# Means and medians \n",
    "agg_salary = df.groupby('experience_level')['salary'].agg(['mean', 'median']).reset_index()\n",
    "\n",
    "# Display\n",
    "print(agg_salary)"
   ]
  }
 ],
 "metadata": {
  "kernelspec": {
   "display_name": "Python 3",
   "language": "python",
   "name": "python3"
  },
  "language_info": {
   "codemirror_mode": {
    "name": "ipython",
    "version": 3
   },
   "file_extension": ".py",
   "mimetype": "text/x-python",
   "name": "python",
   "nbconvert_exporter": "python",
   "pygments_lexer": "ipython3",
   "version": "3.9.6"
  }
 },
 "nbformat": 4,
 "nbformat_minor": 5
}
