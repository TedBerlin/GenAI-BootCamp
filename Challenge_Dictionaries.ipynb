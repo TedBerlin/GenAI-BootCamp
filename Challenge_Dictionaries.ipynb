{
 "cells": [
  {
   "cell_type": "code",
   "execution_count": 2,
   "id": "1da46ac5",
   "metadata": {},
   "outputs": [
    {
     "name": "stdout",
     "output_type": "stream",
     "text": [
      "{'a': [0], 'b': [1], 'r': [2, 8], 'e': [3], 'u': [4], 'v': [5], 'o': [6], 'i': [7]}\n"
     ]
    }
   ],
   "source": [
    "from collections import defaultdict\n",
    "\n",
    "word = input(\"Entrez un mot : \")\n",
    "letter_indexes = defaultdict(list)\n",
    "\n",
    "for index, letter in enumerate(word):\n",
    "    letter_indexes[letter].append(index)\n",
    "\n",
    "print(dict(letter_indexes))"
   ]
  }
 ],
 "metadata": {
  "kernelspec": {
   "display_name": "Python 3",
   "language": "python",
   "name": "python3"
  },
  "language_info": {
   "codemirror_mode": {
    "name": "ipython",
    "version": 3
   },
   "file_extension": ".py",
   "mimetype": "text/x-python",
   "name": "python",
   "nbconvert_exporter": "python",
   "pygments_lexer": "ipython3",
   "version": "3.9.6"
  }
 },
 "nbformat": 4,
 "nbformat_minor": 5
}
