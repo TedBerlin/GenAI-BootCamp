{
 "cells": [
  {
   "cell_type": "code",
   "execution_count": null,
   "id": "d5e43711",
   "metadata": {},
   "outputs": [],
   "source": [
    "#1 Declare a variable\n",
    "first = \"Hello World\"\n"
   ]
  },
  {
   "cell_type": "code",
   "execution_count": null,
   "id": "de70d895",
   "metadata": {},
   "outputs": [],
   "source": [
    "#2 Comment\n",
    "# This is a comment."
   ]
  },
  {
   "cell_type": "code",
   "execution_count": null,
   "id": "0956133e",
   "metadata": {},
   "outputs": [
    {
     "name": "stdout",
     "output_type": "stream",
     "text": [
      "I AM A COMPUTER!\n"
     ]
    }
   ],
   "source": [
    "#3 Log a message\n",
    "print(\"I AM A COMPUTER!\")"
   ]
  },
  {
   "cell_type": "code",
   "execution_count": null,
   "id": "23d37553",
   "metadata": {},
   "outputs": [
    {
     "name": "stdout",
     "output_type": "stream",
     "text": [
      "Math is fun.\n"
     ]
    }
   ],
   "source": [
    "#4 An if statement\n",
    "if 1 < 2 and 4 > 2:\n",
    "    print(\"Math is fun.\")"
   ]
  },
  {
   "cell_type": "code",
   "execution_count": null,
   "id": "9dbe72f8",
   "metadata": {},
   "outputs": [],
   "source": [
    "#5 An absence of value\n",
    "nope = None"
   ]
  },
  {
   "cell_type": "code",
   "execution_count": null,
   "id": "f9c9b0e1",
   "metadata": {},
   "outputs": [
    {
     "name": "stdout",
     "output_type": "stream",
     "text": [
      "False\n"
     ]
    }
   ],
   "source": [
    "#6 “and” boolean operator \n",
    "result = True and False\n",
    "print(result)"
   ]
  },
  {
   "cell_type": "code",
   "execution_count": null,
   "id": "c329e9b1",
   "metadata": {},
   "outputs": [
    {
     "name": "stdout",
     "output_type": "stream",
     "text": [
      "17\n"
     ]
    }
   ],
   "source": [
    "#7 Length of the string\n",
    "length = len(\"What's my length?\")\n",
    "print(length) "
   ]
  },
  {
   "cell_type": "code",
   "execution_count": null,
   "id": "a933f875",
   "metadata": {},
   "outputs": [
    {
     "name": "stdout",
     "output_type": "stream",
     "text": [
      "I AM SHOUTING\n"
     ]
    }
   ],
   "source": [
    "#8 Conversion to uppercases\n",
    "uppercase = \"i am shouting\".upper()\n",
    "print(uppercase) "
   ]
  },
  {
   "cell_type": "code",
   "execution_count": null,
   "id": "dde4c18f",
   "metadata": {},
   "outputs": [
    {
     "name": "stdout",
     "output_type": "stream",
     "text": [
      "1000\n"
     ]
    }
   ],
   "source": [
    "#9 Conversion string to number\n",
    "number = int(\"1000\") \n",
    "print(number)"
   ]
  },
  {
   "cell_type": "code",
   "execution_count": null,
   "id": "b62bfd59",
   "metadata": {},
   "outputs": [
    {
     "name": "stdout",
     "output_type": "stream",
     "text": [
      "4real\n"
     ]
    }
   ],
   "source": [
    "#10 Combination to produce \"4real\"\n",
    "combined = str(4) + \"real\" \n",
    "print(combined)"
   ]
  },
  {
   "cell_type": "code",
   "execution_count": null,
   "id": "ad6dfc63",
   "metadata": {},
   "outputs": [
    {
     "name": "stdout",
     "output_type": "stream",
     "text": [
      "coolcoolcool\n"
     ]
    }
   ],
   "source": [
    "#11 Expression 3 * \"cool\n",
    "output = 3 * \"cool\"\n",
    "print(output)  "
   ]
  },
  {
   "cell_type": "code",
   "execution_count": null,
   "id": "46407ae0",
   "metadata": {},
   "outputs": [
    {
     "name": "stdout",
     "output_type": "stream",
     "text": [
      "Erreur : Division par zéro impossible !\n"
     ]
    }
   ],
   "source": [
    "#12 1/0\n",
    "try:\n",
    "    print(1 / 0)\n",
    "except ZeroDivisionError:\n",
    "    print(\"Erreur : Division par zéro impossible !\")"
   ]
  },
  {
   "cell_type": "code",
   "execution_count": null,
   "id": "167076e3",
   "metadata": {},
   "outputs": [
    {
     "name": "stdout",
     "output_type": "stream",
     "text": [
      "<class 'list'>\n"
     ]
    }
   ],
   "source": [
    "#13 Type of []\n",
    "type_of = type([])\n",
    "print(type_of) "
   ]
  },
  {
   "cell_type": "code",
   "execution_count": null,
   "id": "46a6ef46",
   "metadata": {},
   "outputs": [
    {
     "name": "stdout",
     "output_type": "stream",
     "text": [
      "Nom enregistré : Thierry\n"
     ]
    }
   ],
   "source": [
    "#14 Ask the user for their name, and store it in a variable called name.\n",
    "name = input(\"Entrez votre nom : \")\n",
    "print(\"Nom enregistré :\", name)  "
   ]
  },
  {
   "cell_type": "code",
   "execution_count": null,
   "id": "7bd781f6",
   "metadata": {},
   "outputs": [
    {
     "name": "stdout",
     "output_type": "stream",
     "text": [
      "You picked 0!\n"
     ]
    }
   ],
   "source": [
    "#15 Number / message vs value\n",
    "number = float(input(\"Entrez un nombre : \"))\n",
    "if number < 0:\n",
    "    print(\"That number is less than 0!\")\n",
    "elif number > 0:\n",
    "    print(\"That number is greater than 0!\")\n",
    "else:\n",
    "    print(\"You picked 0!\")"
   ]
  },
  {
   "cell_type": "code",
   "execution_count": null,
   "id": "43454b99",
   "metadata": {},
   "outputs": [
    {
     "name": "stdout",
     "output_type": "stream",
     "text": [
      "3\n"
     ]
    }
   ],
   "source": [
    "#16 \"l\" in \"apple\"\n",
    "index = \"apple\".index(\"l\")\n",
    "print(index) "
   ]
  },
  {
   "cell_type": "code",
   "execution_count": null,
   "id": "be8676c5",
   "metadata": {},
   "outputs": [
    {
     "name": "stdout",
     "output_type": "stream",
     "text": [
      "True\n"
     ]
    }
   ],
   "source": [
    "#17 \"y\" is in \"xylophone\"\n",
    "is_present = \"y\" in \"xylophone\"\n",
    "print(is_present) "
   ]
  },
  {
   "cell_type": "code",
   "execution_count": 28,
   "id": "1a7ae0c8",
   "metadata": {},
   "outputs": [
    {
     "name": "stdout",
     "output_type": "stream",
     "text": [
      "True\n"
     ]
    }
   ],
   "source": [
    "#18 Lowercase\n",
    "my_string = input(\"Entrez votre exemple : \")\n",
    "is_all_lower = my_string.islower()\n",
    "print(is_all_lower) "
   ]
  },
  {
   "cell_type": "code",
   "execution_count": 30,
   "id": "39ee4826",
   "metadata": {},
   "outputs": [
    {
     "name": "stdout",
     "output_type": "stream",
     "text": [
      "[10, 56, 64]\n",
      "[1, 15, 15]\n",
      "[2, 24, 24]\n"
     ]
    }
   ],
   "source": [
    "# Exercice 2\n",
    "def calculate_pet_years(human_years):\n",
    "    if human_years == 1:\n",
    "        cat_years = 15\n",
    "        dog_years = 15\n",
    "    elif human_years == 2:\n",
    "        cat_years = 15 + 9\n",
    "        dog_years = 15 + 9\n",
    "    else:\n",
    "        cat_years = 15 + 9 + 4 * (human_years - 2)\n",
    "        dog_years = 15 + 9 + 5 * (human_years - 2)\n",
    "    return [human_years, cat_years, dog_years]\n",
    "\n",
    "# Tests valeurs demandées\n",
    "print(calculate_pet_years(10))  # [10, 56, 64]\n",
    "print(calculate_pet_years(1))   # [1, 15, 15]\n",
    "print(calculate_pet_years(2))   # [2, 24, 24]"
   ]
  }
 ],
 "metadata": {
  "kernelspec": {
   "display_name": "Python 3",
   "language": "python",
   "name": "python3"
  },
  "language_info": {
   "codemirror_mode": {
    "name": "ipython",
    "version": 3
   },
   "file_extension": ".py",
   "mimetype": "text/x-python",
   "name": "python",
   "nbconvert_exporter": "python",
   "pygments_lexer": "ipython3",
   "version": "3.9.6"
  }
 },
 "nbformat": 4,
 "nbformat_minor": 5
}
