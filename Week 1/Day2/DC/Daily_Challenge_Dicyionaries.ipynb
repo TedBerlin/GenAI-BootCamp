{
 "cells": [
  {
   "cell_type": "code",
   "execution_count": null,
   "id": "6dc506a7",
   "metadata": {},
   "outputs": [
    {
     "name": "stdout",
     "output_type": "stream",
     "text": [
      "\n",
      "=== Temperature Advice Program ===\n",
      "\n",
      "It's spring! The temperature is 18.9°C.\n",
      "Nice weather.\n"
     ]
    }
   ],
   "source": [
    "word = input(\"Entrez un mot : \")\n",
    "letter_indexes = {}\n",
    "\n",
    "for index, letter in enumerate(word):\n",
    "    if letter not in letter_indexes:\n",
    "        letter_indexes[letter] = []\n",
    "    letter_indexes[letter].append(index)\n",
    "\n",
    "print(letter_indexes)"
   ]
  }
 ],
 "metadata": {
  "kernelspec": {
   "display_name": "Python 3",
   "language": "python",
   "name": "python3"
  },
  "language_info": {
   "codemirror_mode": {
    "name": "ipython",
    "version": 3
   },
   "file_extension": ".py",
   "mimetype": "text/x-python",
   "name": "python",
   "nbconvert_exporter": "python",
   "pygments_lexer": "ipython3",
   "version": "3.9.6"
  }
 },
 "nbformat": 4,
 "nbformat_minor": 5
}
