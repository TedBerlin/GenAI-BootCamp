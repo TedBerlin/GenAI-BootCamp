{
 "cells": [
  {
   "cell_type": "code",
   "execution_count": null,
   "id": "a677446e",
   "metadata": {},
   "outputs": [],
   "source": []
  },
  {
   "cell_type": "code",
   "execution_count": 1,
   "id": "1d671562",
   "metadata": {},
   "outputs": [
    {
     "name": "stdout",
     "output_type": "stream",
     "text": [
      "A new dog has been initialized !\n",
      "His name is Rex\n",
      "A new dog has been initialized !\n",
      "His name is Rex\n"
     ]
    }
   ],
   "source": [
    "class Dog():\n",
    "    # Initializer / Instance Attributes\n",
    "    def __init__(self, name_of_the_dog):\n",
    "        print(\"A new dog has been initialized !\")\n",
    "        print(\"His name is\", name_of_the_dog)\n",
    "\n",
    "shelter_dog = Dog(name_of_the_dog=\"Rex\")\n",
    "# or\n",
    "shelter_dog = Dog(\"Rex\")"
   ]
  },
  {
   "cell_type": "code",
   "execution_count": 2,
   "id": "2649c220",
   "metadata": {},
   "outputs": [
    {
     "name": "stdout",
     "output_type": "stream",
     "text": [
      "John\n",
      "36\n"
     ]
    }
   ],
   "source": [
    "class Person():\n",
    "  def __init__(self, name, age):\n",
    "    self.name = name\n",
    "    self.age = age\n",
    "\n",
    "first_person = Person(\"John\", 36)\n",
    "\n",
    "print(first_person.name)\n",
    "print(first_person.age)"
   ]
  },
  {
   "cell_type": "code",
   "execution_count": 3,
   "id": "b50f4e0c",
   "metadata": {},
   "outputs": [
    {
     "name": "stdout",
     "output_type": "stream",
     "text": [
      "p.x is: 3\n",
      "p.y is: 4\n"
     ]
    }
   ],
   "source": [
    "class Point():\n",
    "    def __init__(self, x, y):\n",
    "        self.x = x\n",
    "        self.y = y\n",
    "\n",
    "## create an instance of the class\n",
    "p = Point(3,4)\n",
    "\n",
    "## access the attributes\n",
    "print(\"p.x is:\", p.x)\n",
    "print(\"p.y is:\", p.y)"
   ]
  },
  {
   "cell_type": "code",
   "execution_count": 11,
   "id": "35187044",
   "metadata": {},
   "outputs": [
    {
     "name": "stdout",
     "output_type": "stream",
     "text": [
      "Hello my name is John\n"
     ]
    }
   ],
   "source": [
    "class Person():\n",
    "    def __init__(self, name, age):\n",
    "        self.name = name\n",
    "        self.age = age\n",
    "\n",
    "    def show_details(self):\n",
    "        print(\"Hello my name is \" + self.name)\n",
    "\n",
    "    def rename(self, new_name):\n",
    "        self.name = new_name\n",
    "\n",
    "first_person = Person(\"John\", 36)\n",
    "first_person.rename = Person(\"Antoine\", 47)\n",
    "first_person.show_details()\n",
    "\n"
   ]
  },
  {
   "cell_type": "code",
   "execution_count": null,
   "id": "2ee2e82f",
   "metadata": {},
   "outputs": [
    {
     "name": "stdout",
     "output_type": "stream",
     "text": [
      "The oldest cat is Bologne, and is 5 years old.\n"
     ]
    }
   ],
   "source": [
    "class Cat:\n",
    "    def __init__(self, cat_name, cat_age):\n",
    "        self.name = cat_name\n",
    "        self.age = cat_age\n",
    "\n",
    "# Cat objects cration\n",
    "cat1 = Cat(\"Ursula\", 3)\n",
    "cat2 = Cat(\"Bologne\", 5)\n",
    "cat3 = Cat(\"Felix\", 1)\n",
    "\n",
    "# Finding the oldest cat\n",
    "def find_oldest_cat(*cats):\n",
    "    oldest_cat = cats[0]\n",
    "    for cat in cats:\n",
    "        if cat.age > oldest_cat.age:\n",
    "            oldest_cat = cat\n",
    "    return oldest_cat\n",
    "\n",
    "# The oldest cat display\n",
    "oldest = find_oldest_cat(cat1, cat2, cat3)\n",
    "print(f\"The oldest cat is {oldest.name}, and is {oldest.age} years old.\")\n"
   ]
  },
  {
   "cell_type": "code",
   "execution_count": 1,
   "id": "fa406230",
   "metadata": {},
   "outputs": [
    {
     "ename": "TypeError",
     "evalue": "__init__() missing 1 required positional argument: 'dog_height'",
     "output_type": "error",
     "traceback": [
      "\u001b[0;31m---------------------------------------------------------------------------\u001b[0m",
      "\u001b[0;31mTypeError\u001b[0m                                 Traceback (most recent call last)",
      "Cell \u001b[0;32mIn[1], line 13\u001b[0m\n\u001b[1;32m      9\u001b[0m     \u001b[38;5;28;01mdef\u001b[39;00m\u001b[38;5;250m \u001b[39m\u001b[38;5;21mjump\u001b[39m(\u001b[38;5;28mself\u001b[39m):\n\u001b[1;32m     11\u001b[0m         \u001b[38;5;28mprint\u001b[39m \n\u001b[0;32m---> 13\u001b[0m davids_dog \u001b[38;5;241m=\u001b[39m \u001b[43mDog\u001b[49m\u001b[43m \u001b[49m\u001b[43m(\u001b[49m\u001b[38;5;124;43m\"\u001b[39;49m\u001b[38;5;124;43mRex), 25\u001b[39;49m\u001b[38;5;124;43m\"\u001b[39;49m\u001b[43m)\u001b[49m\n\u001b[1;32m     14\u001b[0m \u001b[38;5;28mprint\u001b[39m(davids_dog)\n\u001b[1;32m     15\u001b[0m davids_dog\u001b[38;5;241m.\u001b[39mbark()\n",
      "\u001b[0;31mTypeError\u001b[0m: __init__() missing 1 required positional argument: 'dog_height'"
     ]
    }
   ],
   "source": [
    "class Dog:\n",
    "    def __init__(self, dog_name, dog_height):\n",
    "        self.name = name\n",
    "        self.height = height\n",
    "\n",
    "    def bark(self):\n",
    "        print(\"goes woof\")\n",
    "\n",
    "    def jump(self):\n",
    "        \n",
    "        print \n",
    "\n",
    "davids_dog = Dog (\"Rex), 25\")\n",
    "print(davids_dog)\n",
    "davids_dog.bark()\n",
    "davids_dog.jump()\n",
    "\n",
    "sarahs_dog = Dog (\"Rex), 25\")\n",
    "print(sarahs_dog)\n",
    "sarahs_dog.bark()\n",
    "sarahs_dog.jump()"
   ]
  }
 ],
 "metadata": {
  "kernelspec": {
   "display_name": "Python 3",
   "language": "python",
   "name": "python3"
  },
  "language_info": {
   "codemirror_mode": {
    "name": "ipython",
    "version": 3
   },
   "file_extension": ".py",
   "mimetype": "text/x-python",
   "name": "python",
   "nbconvert_exporter": "python",
   "pygments_lexer": "ipython3",
   "version": "3.9.6"
  }
 },
 "nbformat": 4,
 "nbformat_minor": 5
}
