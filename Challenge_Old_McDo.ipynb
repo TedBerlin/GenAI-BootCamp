{
 "cells": [
  {
   "cell_type": "code",
   "execution_count": null,
   "id": "f6e51587",
   "metadata": {},
   "outputs": [],
   "source": []
  },
  {
   "cell_type": "code",
   "execution_count": 7,
   "id": "b8a34f65",
   "metadata": {},
   "outputs": [
    {
     "name": "stdout",
     "output_type": "stream",
     "text": [
      "Old MacDonald's Farm\n",
      "cow        : 5\n",
      "pig        : 1\n",
      "horse      : 2\n",
      "sheep      : 10\n",
      "goat       : 12\n",
      "E-I-E-I-O!\n"
     ]
    }
   ],
   "source": [
    "class Farm:\n",
    "    def __init__(self,farm_name):\n",
    "        self.name = farm_name\n",
    "        self.animals = {}\n",
    "\n",
    "    def add_animal(self, animal_type, count=1):\n",
    "        if animal_type in self.animals:\n",
    "            self.animals[animal_type] += count\n",
    "        else:\n",
    "            self.animals[animal_type] = count\n",
    "\n",
    "    def get_info(self):\n",
    "        info = f\"{self.name}'s Farm\\n\"\n",
    "        for animal, count in self.animals.items():\n",
    "            info += f\"{animal:10} : {count}\\n\"\n",
    "        info += \"E-I-E-I-O!\"\n",
    "        return info\n",
    "\n",
    "# Code test\n",
    "macdonald_farm = Farm(\"Old MacDonald\")\n",
    "macdonald_farm.add_animal(\"cow\",5)\n",
    "macdonald_farm.add_animal(\"pig\",1)\n",
    "macdonald_farm.add_animal(\"horse\",2)\n",
    "macdonald_farm.add_animal('sheep',10)\n",
    "macdonald_farm.add_animal('goat', 12)\n",
    "\n",
    "print(macdonald_farm.get_info())\n",
    "\n",
    "\n",
    "\n",
    "\n",
    "\n"
   ]
  }
 ],
 "metadata": {
  "kernelspec": {
   "display_name": "Python 3",
   "language": "python",
   "name": "python3"
  },
  "language_info": {
   "codemirror_mode": {
    "name": "ipython",
    "version": 3
   },
   "file_extension": ".py",
   "mimetype": "text/x-python",
   "name": "python",
   "nbconvert_exporter": "python",
   "pygments_lexer": "ipython3",
   "version": "3.9.6"
  }
 },
 "nbformat": 4,
 "nbformat_minor": 5
}
