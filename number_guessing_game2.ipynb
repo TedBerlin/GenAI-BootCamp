{
 "cells": [
  {
   "cell_type": "code",
   "execution_count": 1,
   "id": "b1fbc7ce",
   "metadata": {},
   "outputs": [
    {
     "name": "stdout",
     "output_type": "stream",
     "text": [
      "\n",
      "Attempt 1 of 7\n",
      "Too low!\n",
      "\n",
      "Attempt 2 of 7\n",
      "Too low!\n",
      "\n",
      "Attempt 3 of 7\n",
      "Tow high\n",
      "\n",
      "Attempt 4 of 7\n",
      "Too low!\n",
      "\n",
      "Attempt 5 of 7\n",
      "Congratulations!.\n"
     ]
    }
   ],
   "source": [
    "import random\n",
    "\n",
    "def number_guessing_game():\n",
    "\n",
    "#Generate number\n",
    "    random_number = random.randint(1, 100)\n",
    "\n",
    "# Set the maximum number of attempts\n",
    "    max_attempts = 7\n",
    "\n",
    "\n",
    "# Main game loop\n",
    "    for attempt in range(1, max_attempts + 1):\n",
    "        print(f\"\\nAttempt {attempt} of {max_attempts}\")\n",
    "\n",
    "        guess = int(input(\"Enter your guess (1-100): \"))\n",
    "        if guess < random_number:\n",
    "            print(\"Too low!\")\n",
    "        \n",
    "        elif guess >random_number:\n",
    "            print(\"Tow high\") \n",
    "\n",
    "\n",
    "        else:\n",
    "            print(\"Congratulations!.\")\n",
    "\n",
    "            break\n",
    "\n",
    "    if guess!=random_number:\n",
    "        print(f\"the correct number is {random_number}\")\n",
    "\n",
    "number_guessing_game()\n",
    "\n",
    "          "
   ]
  },
  {
   "cell_type": "code",
   "execution_count": null,
   "id": "48654dbc",
   "metadata": {},
   "outputs": [],
   "source": []
  }
 ],
 "metadata": {
  "kernelspec": {
   "display_name": "Python 3",
   "language": "python",
   "name": "python3"
  },
  "language_info": {
   "codemirror_mode": {
    "name": "ipython",
    "version": 3
   },
   "file_extension": ".py",
   "mimetype": "text/x-python",
   "name": "python",
   "nbconvert_exporter": "python",
   "pygments_lexer": "ipython3",
   "version": "3.9.6"
  }
 },
 "nbformat": 4,
 "nbformat_minor": 5
}
