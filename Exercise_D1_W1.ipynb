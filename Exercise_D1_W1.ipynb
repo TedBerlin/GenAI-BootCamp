{
 "cells": [
  {
   "cell_type": "code",
   "execution_count": null,
   "id": "e28428d9",
   "metadata": {},
   "outputs": [],
   "source": [
    "# Exercise 1: Hello World\n",
    "\n",
    "print(\"Hello world\\n\" * 4, end=\"\")"
   ]
  },
  {
   "cell_type": "code",
   "execution_count": 1,
   "id": "21d4443a",
   "metadata": {},
   "outputs": [
    {
     "name": "stdout",
     "output_type": "stream",
     "text": [
      "7762392\n"
     ]
    }
   ],
   "source": [
    "# Exercise 2: Hello World\n",
    "\n",
    "result = (99 ** 3) * 8\n",
    "print(result)"
   ]
  },
  {
   "cell_type": "code",
   "execution_count": 3,
   "id": "80b72dfb",
   "metadata": {},
   "outputs": [
    {
     "name": "stdout",
     "output_type": "stream",
     "text": [
      "\n",
      "Nice to meet you, Teddan! \n",
      "I'm Ted Dan - clearly we have different names,\n",
      "which means there's only one of me... or is there?\n"
     ]
    }
   ],
   "source": [
    "# Exercise 3 : What’s your name ?\n",
    "\n",
    "def name_check():\n",
    "    # User's name\n",
    "    user_name = input(\"Hey buddy! What's your name? \").strip().title()\n",
    "    \n",
    "    # Name\n",
    "    my_name = \"Ted Dan\"\n",
    "    \n",
    "    # Same name checking\n",
    "    if user_name == my_name:\n",
    "        print(\"\"\"\\nWow! We're name twins without knowing it, aren't we!??\n",
    "Welcome into the family.\"\"\")\n",
    "    else:\n",
    "        print(f\"\"\"\\nNice to meet you, {user_name}! \n",
    "I'm {my_name} - clearly we have different names,\n",
    "which means there's only one of me... or is there?\"\"\")\n",
    "\n",
    "# Run the function\n",
    "name_check()\n"
   ]
  },
  {
   "cell_type": "code",
   "execution_count": null,
   "id": "0024e782",
   "metadata": {},
   "outputs": [],
   "source": []
  },
  {
   "cell_type": "code",
   "execution_count": 12,
   "id": "330cbe1c",
   "metadata": {},
   "outputs": [
    {
     "name": "stdout",
     "output_type": "stream",
     "text": [
      "Sorry, 1.0 cm are left. You need to grow a littele bit more to ride\n"
     ]
    }
   ],
   "source": [
    "#  Exercise 4 : Tall enough to ride a roller coaster\n",
    "\n",
    "# User height\n",
    "\n",
    "height = float(input(\"Entrez votre taille en centimètres : \"))\n",
    "\n",
    "# Vérifier si la taille est suffisante\n",
    "if height >= 145:\n",
    "    print(\"Congrats ! Your are tall enough to access the Roller Coaster!!\")\n",
    "else:\n",
    "    print(f\"Sorry, {145 - height:.1f} cm are left. You need to grow a littele bit more to ride\")"
   ]
  },
  {
   "cell_type": "code",
   "execution_count": null,
   "id": "62d9c689",
   "metadata": {},
   "outputs": [
    {
     "name": "stdout",
     "output_type": "stream",
     "text": [
      "ApAfter adding: {5, 8, 45, 14, 21, 26}\n",
      "Après suppression : {5, 8, 14, 21, 26}\n",
      "Combined favorite numbers: {4, 5, 8, 12, 14, 18, 21, 56, 26}\n"
     ]
    }
   ],
   "source": [
    "# Exercise 5 : Favorite Numbers\n",
    "\n",
    "\n",
    "# Initialisation\n",
    "my_fav_numbers = {5, 8, 26, 14} \n",
    "\n",
    "# 2 new numbers\n",
    "my_fav_numbers.add(21)\n",
    "my_fav_numbers.add(45)\n",
    "print(\"After adding:\", my_fav_numbers)  # Display\n",
    "\n",
    "# Last number removal\n",
    "last_added = 45  \n",
    "my_fav_numbers.remove(last_added)\n",
    "print(\"After suppression :\", my_fav_numbers)  # Display 2\n",
    "\n",
    "# Friend's number\n",
    "friend_fav_numbers = {18, 12, 56, 4}\n",
    "\n",
    "# Concatenation\n",
    "our_fav_numbers = my_fav_numbers.union(friend_fav_numbers)\n",
    "print(\"Combined favorite numbers:\", our_fav_numbers)"
   ]
  },
  {
   "cell_type": "code",
   "execution_count": 15,
   "id": "7cd33da7",
   "metadata": {},
   "outputs": [
    {
     "name": "stdout",
     "output_type": "stream",
     "text": [
      "The word 'Apples' appears 2 times in the list.\n",
      "Liste finale: []\n"
     ]
    }
   ],
   "source": [
    "# Exercise 7: List Manipulation\n",
    "\n",
    "basket = [\"Banana\", \"Apples\", \"Oranges\", \"Blueberries\"]\n",
    "\n",
    "basket.remove(\"Banana\")\n",
    "\n",
    "basket.remove(\"Blueberries\")\n",
    "\n",
    "basket.append(\"Kiwi\")\n",
    "\n",
    "basket.insert(0, \"Apples\")\n",
    "\n",
    "apple_count = basket.count(\"Apples\")\n",
    "print(f\"The word 'Apples' appears {apple_count} times in the list.\")\n",
    "\n",
    "basket.clear()\n",
    "\n",
    "print(\"Liste finale:\", basket)\n"
   ]
  },
  {
   "cell_type": "code",
   "execution_count": null,
   "id": "2a4202c0",
   "metadata": {},
   "outputs": [
    {
     "name": "stdout",
     "output_type": "stream",
     "text": [
      "The deli has run out of pastrami!\n",
      "I made your tuna sandwich\n",
      "I made your avocado sandwich\n",
      "I made your egg sandwich\n",
      "I made your chicken sandwich\n",
      "\n",
      "All sandwiches that were made:\n",
      "- Tuna sandwich\n",
      "- Avocado sandwich\n",
      "- Egg sandwich\n",
      "- Chicken sandwich\n"
     ]
    }
   ],
   "source": [
    "# Exercise 8 : Sandwich Orders\n",
    "\n",
    "# Initial sandwich orders\n",
    "sandwich_orders = [\n",
    "    \"Tuna sandwich\", \n",
    "    \"Pastrami sandwich\", \n",
    "    \"Avocado sandwich\", \n",
    "    \"Pastrami sandwich\", \n",
    "    \"Egg sandwich\", \n",
    "    \"Chicken sandwich\", \n",
    "    \"Pastrami sandwich\"\n",
    "]\n",
    "\n",
    "#  All Pastrami sandwiches removal\n",
    "print(\"The deli has run out of pastrami!\")\n",
    "while \"Pastrami sandwich\" in sandwich_orders:\n",
    "    sandwich_orders.remove(\"Pastrami sandwich\")\n",
    "\n",
    "# Sandwiches preparation\n",
    "finished_sandwiches = []\n",
    "\n",
    "while sandwich_orders:\n",
    "    current_sandwich = sandwich_orders.pop(0)\n",
    "    finished_sandwiches.append(current_sandwich)\n",
    "    print(f\"I made your {current_sandwich.lower()}\")\n",
    "\n",
    "# All made sandwiches display\n",
    "print(\"\\nAll sandwiches that were made:\")\n",
    "for sandwich in finished_sandwiches:\n",
    "    print(f\"- {sandwich}\")"
   ]
  }
 ],
 "metadata": {
  "kernelspec": {
   "display_name": "Python 3",
   "language": "python",
   "name": "python3"
  },
  "language_info": {
   "codemirror_mode": {
    "name": "ipython",
    "version": 3
   },
   "file_extension": ".py",
   "mimetype": "text/x-python",
   "name": "python",
   "nbconvert_exporter": "python",
   "pygments_lexer": "ipython3",
   "version": "3.9.6"
  }
 },
 "nbformat": 4,
 "nbformat_minor": 5
}
